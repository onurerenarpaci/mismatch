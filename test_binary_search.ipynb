{
 "cells": [
  {
   "cell_type": "code",
   "execution_count": 1,
   "metadata": {},
   "outputs": [],
   "source": [
    "import merkletools\n",
    "from web3 import Web3\n",
    "from solcx import compile_files\n",
    "import client.utils as utils"
   ]
  },
  {
   "cell_type": "code",
   "execution_count": 2,
   "metadata": {},
   "outputs": [],
   "source": [
    "contract_id, compiled_sol = compile_files([\"mismatch.sol\"], output_values=['abi', 'bin']).popitem()\n",
    "\n",
    "w3 = Web3(Web3.EthereumTesterProvider())\n",
    "\n",
    "mismatch = w3.eth.contract(abi=compiled_sol['abi'], bytecode=compiled_sol['bin'])\n",
    "\n",
    "tx_hash = mismatch.constructor().transact()\n",
    "tx_receipt = w3.eth.wait_for_transaction_receipt(tx_hash)\n",
    "\n",
    "Mismatch = w3.eth.contract(address=tx_receipt.contractAddress, abi=compiled_sol['abi'])"
   ]
  },
  {
   "cell_type": "code",
   "execution_count": 3,
   "metadata": {},
   "outputs": [],
   "source": [
    "mt1 = merkletools.MerkleTools(hash_type=\"keccak_256\")\n",
    "mt2 = merkletools.MerkleTools(hash_type=\"keccak_256\")\n",
    "\n",
    "mt1.add_leaf(['0', '1','1','2','3','5','8','13','21','34','55','89','144','233','377','610','987','1597','2584','4181','6765','10946','17711','28657','46368','75025','121393','196418','317811','514229','832040','1346269'], True)\n",
    "mt2.add_leaf(['0', '1','1','2','3','5','8','13','21','34','89','144','233','377','610','987','1597','2584','4181','6765','10946','17711','28657','46368','75025','121393','196418','317811','514229','832040','1346269','2178309'], True)\n",
    "\n",
    "mt1.make_tree()\n",
    "mt2.make_tree()"
   ]
  },
  {
   "cell_type": "code",
   "execution_count": 4,
   "metadata": {},
   "outputs": [],
   "source": [
    "tx_hash = Mismatch.functions.start_committed_bs(\n",
    "    len(mt1.leaves), \n",
    "    '0x' + mt1.get_merkle_root(),\n",
    "    '0x' + mt2.get_merkle_root(),\n",
    "    w3.eth.accounts[1],\n",
    "    w3.eth.accounts[2],\n",
    "    '0x' + mt1.get_merkle_root()).transact()\n",
    "tx_receipt = w3.eth.wait_for_transaction_receipt(tx_hash)"
   ]
  },
  {
   "cell_type": "code",
   "execution_count": 5,
   "metadata": {},
   "outputs": [
    {
     "name": "stdout",
     "output_type": "stream",
     "text": [
      "conractor = 1 middle = 16\n",
      "conractor = 2 middle = 16\n",
      "conractor = 2 middle = 8\n",
      "conractor = 1 middle = 8\n",
      "conractor = 2 middle = 12\n",
      "conractor = 1 middle = 12\n",
      "conractor = 2 middle = 10\n",
      "conractor = 1 middle = 10\n",
      "conractor = 2 middle = 9\n",
      "conractor = 1 middle = 9\n"
     ]
    }
   ],
   "source": [
    "import asyncio\n",
    "mt = [mt1, mt2]\n",
    "\n",
    "def handle_event(event, conractor):\n",
    "    middle = event['args']['middle']\n",
    "    Mismatch.functions.send_rc_proof(utils.translate_proof(mt[conractor-1], middle)).transact({'from': w3.eth.accounts[conractor]})\n",
    "    print(f'conractor = {conractor} middle = {middle}')\n",
    "    \n",
    "\n",
    "async def log_loop_c1(event_filter, poll_interval):\n",
    "    for x in range(10):\n",
    "        for PairCreated in event_filter.get_new_entries():\n",
    "            handle_event(PairCreated, 1)\n",
    "        await asyncio.sleep(poll_interval)\n",
    "\n",
    "async def log_loop_c2(event_filter, poll_interval):\n",
    "    for x in range(10):\n",
    "        for PairCreated in event_filter.get_new_entries():\n",
    "            handle_event(PairCreated, 2)\n",
    "        await asyncio.sleep(poll_interval)\n",
    "\n",
    "async def main():\n",
    "    event_filter_c1 = Mismatch.events.request_proof_of_middle.createFilter(fromBlock=1)\n",
    "    event_filter_c2 = Mismatch.events.request_proof_of_middle.createFilter(fromBlock=1)\n",
    "\n",
    "    await asyncio.gather(\n",
    "        log_loop_c1(event_filter_c1, 2),\n",
    "        log_loop_c2(event_filter_c2, 1.5))\n",
    "\n",
    "\n",
    "await main()\n"
   ]
  },
  {
   "cell_type": "code",
   "execution_count": 140,
   "metadata": {},
   "outputs": [
    {
     "data": {
      "text/plain": [
       "[AttributeDict({'args': AttributeDict({'high': 10}),\n",
       "  'event': 'request_proof_of_committed_step',\n",
       "  'logIndex': 0,\n",
       "  'transactionIndex': 0,\n",
       "  'transactionHash': HexBytes('0x2c13aa88a3c9cf358587f69c57ab4b56b3c343887a0d63b7c52ff7337557e5f6'),\n",
       "  'address': '0xF2E246BB76DF876Cef8b38ae84130F4F55De395b',\n",
       "  'blockHash': HexBytes('0xad32fa62f7861175f72e05eb5755aa15bac35843676fda440c0462a83bb6e8c3'),\n",
       "  'blockNumber': 12})]"
      ]
     },
     "execution_count": 140,
     "metadata": {},
     "output_type": "execute_result"
    }
   ],
   "source": [
    "event_filter = Mismatch.events.request_proof_of_committed_step.createFilter(fromBlock=1)\n",
    "event_filter.get_new_entries()"
   ]
  }
 ],
 "metadata": {
  "kernelspec": {
   "display_name": "Python 3.9.10 ('delegate-LWMUJY8D')",
   "language": "python",
   "name": "python3"
  },
  "language_info": {
   "codemirror_mode": {
    "name": "ipython",
    "version": 3
   },
   "file_extension": ".py",
   "mimetype": "text/x-python",
   "name": "python",
   "nbconvert_exporter": "python",
   "pygments_lexer": "ipython3",
   "version": "3.9.10"
  },
  "orig_nbformat": 4,
  "vscode": {
   "interpreter": {
    "hash": "6ba3fa109e57979c9564df063a68ab223d9ee995edbd2f4d758ef91a92a3875d"
   }
  }
 },
 "nbformat": 4,
 "nbformat_minor": 2
}
