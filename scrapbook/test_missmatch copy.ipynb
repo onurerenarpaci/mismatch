{
 "cells": [
  {
   "cell_type": "code",
   "execution_count": 6,
   "metadata": {},
   "outputs": [],
   "source": [
    "import merkletools\n",
    "from web3 import Web3\n",
    "from solcx import compile_files\n",
    "import utils\n",
    "import ram\n",
    "import copy"
   ]
  },
  {
   "cell_type": "code",
   "execution_count": 7,
   "metadata": {},
   "outputs": [],
   "source": [
    "contract_id, compiled_sol = compile_files([\"test.sol\"], output_values=['abi', 'bin']).popitem()\n",
    "\n",
    "w3 = Web3(Web3.EthereumTesterProvider())\n",
    "\n",
    "missmatch = w3.eth.contract(abi=compiled_sol['abi'], bytecode=compiled_sol['bin'])\n",
    "\n",
    "tx_hash = missmatch.constructor().transact()\n",
    "tx_receipt = w3.eth.wait_for_transaction_receipt(tx_hash)\n",
    "\n",
    "Missmatch = w3.eth.contract(address=tx_receipt.contractAddress, abi=compiled_sol['abi'])\n"
   ]
  },
  {
   "cell_type": "code",
   "execution_count": 8,
   "metadata": {},
   "outputs": [
    {
     "data": {
      "text/plain": [
       "'62b40c8fabfee5a07bd5bc866a0c48ec74ea57d293ab40be0e156da9d07f4658'"
      ]
     },
     "execution_count": 8,
     "metadata": {},
     "output_type": "execute_result"
    }
   ],
   "source": [
    "code = ram.RamCoder(10)\n",
    "code.load(5, 0)\n",
    "code.load(7, 1)\n",
    "code.load(1, 5)\n",
    "code.add(0, 2, 2)\n",
    "code.sub(1, 5, 1)\n",
    "code.jnz(1, 2)\n",
    "code.end()\n",
    "\n",
    "ram1 = ram.Ram(code.source)\n",
    "ram1()\n",
    "ram1.rc_list\n",
    "\n",
    "mt1 = utils.reduced_config_mt(ram1.rc_list)\n",
    "\n",
    "corrupted_rc_list = copy.deepcopy(ram1.rc_list)\n",
    "corrupted_rc_list[14][\"args\"] = [1, 2, 3]\n",
    "corrupted_rc_list[15][\"args\"] = [1, 2, 3]\n",
    "corrupted_rc_list[16][\"args\"] = [1, 2, 3]\n",
    "\n",
    "mt2 = utils.reduced_config_mt(corrupted_rc_list)\n",
    "\n",
    "mt2.get_leaf(11)"
   ]
  },
  {
   "cell_type": "code",
   "execution_count": 11,
   "metadata": {},
   "outputs": [
    {
     "data": {
      "text/plain": [
       "HexBytes('0x8c239c053a5d925df8afe0a14e136574beb66946661f5ca8ef57f16bd86dbeba')"
      ]
     },
     "execution_count": 11,
     "metadata": {},
     "output_type": "execute_result"
    }
   ],
   "source": [
    "\n",
    "rc = ram1.rc_list[12]\n",
    "Missmatch.functions.send_committed_step(\n",
    "    PC = rc['PC'], \n",
    "    OpCode = int(rc['OpCode']), \n",
    "    args = rc['args'], \n",
    "    args_values = utils.sterilize_ints(rc['args_values']), \n",
    "    args_proof = rc['args_proofs'],\n",
    "    store_mt_root = rc['store_mt_root'],\n",
    "    nextOpCode = int(ram1.rc_list[13]['OpCode']),\n",
    "    # nextArgs = utils.sterilize_ints(ram1.rc_list[13]['args']),\n",
    "    # next_op_proof = rc['next_op_proof']\n",
    "    ).transact({'from': w3.eth.accounts[1]})"
   ]
  },
  {
   "cell_type": "code",
   "execution_count": 10,
   "metadata": {},
   "outputs": [
    {
     "ename": "ABIEventFunctionNotFound",
     "evalue": "(\"The event 'request_proof_of_middle' was not found in this contract's abi. \", 'Are you sure you provided the correct contract abi?')",
     "output_type": "error",
     "traceback": [
      "\u001b[0;31m---------------------------------------------------------------------------\u001b[0m",
      "\u001b[0;31mABIEventFunctionNotFound\u001b[0m                  Traceback (most recent call last)",
      "\u001b[1;32m/Users/onurerenarpaci/Desktop/KUSRP/delegate/test_missmatch copy.ipynb Cell 5'\u001b[0m in \u001b[0;36m<cell line: 51>\u001b[0;34m()\u001b[0m\n\u001b[1;32m     <a href='vscode-notebook-cell:/Users/onurerenarpaci/Desktop/KUSRP/delegate/test_missmatch%20copy.ipynb#ch0000004?line=43'>44</a>\u001b[0m     event_filter_verift_c2 \u001b[39m=\u001b[39m Missmatch\u001b[39m.\u001b[39mevents\u001b[39m.\u001b[39mrequest_proof_of_committed_step\u001b[39m.\u001b[39mcreateFilter(fromBlock\u001b[39m=\u001b[39m\u001b[39m1\u001b[39m)\n\u001b[1;32m     <a href='vscode-notebook-cell:/Users/onurerenarpaci/Desktop/KUSRP/delegate/test_missmatch%20copy.ipynb#ch0000004?line=45'>46</a>\u001b[0m     \u001b[39mawait\u001b[39;00m asyncio\u001b[39m.\u001b[39mgather(\n\u001b[1;32m     <a href='vscode-notebook-cell:/Users/onurerenarpaci/Desktop/KUSRP/delegate/test_missmatch%20copy.ipynb#ch0000004?line=46'>47</a>\u001b[0m         log_loop_c1(event_filter_c1, event_filter_verift_c1, \u001b[39m1\u001b[39m),\n\u001b[1;32m     <a href='vscode-notebook-cell:/Users/onurerenarpaci/Desktop/KUSRP/delegate/test_missmatch%20copy.ipynb#ch0000004?line=47'>48</a>\u001b[0m         log_loop_c2(event_filter_c2, event_filter_verift_c2, \u001b[39m1\u001b[39m))\n\u001b[0;32m---> <a href='vscode-notebook-cell:/Users/onurerenarpaci/Desktop/KUSRP/delegate/test_missmatch%20copy.ipynb#ch0000004?line=50'>51</a>\u001b[0m \u001b[39mawait\u001b[39;00m main()\n",
      "\u001b[1;32m/Users/onurerenarpaci/Desktop/KUSRP/delegate/test_missmatch copy.ipynb Cell 5'\u001b[0m in \u001b[0;36mmain\u001b[0;34m()\u001b[0m\n\u001b[1;32m     <a href='vscode-notebook-cell:/Users/onurerenarpaci/Desktop/KUSRP/delegate/test_missmatch%20copy.ipynb#ch0000004?line=39'>40</a>\u001b[0m \u001b[39masync\u001b[39;00m \u001b[39mdef\u001b[39;00m \u001b[39mmain\u001b[39m():\n\u001b[0;32m---> <a href='vscode-notebook-cell:/Users/onurerenarpaci/Desktop/KUSRP/delegate/test_missmatch%20copy.ipynb#ch0000004?line=40'>41</a>\u001b[0m     event_filter_c1 \u001b[39m=\u001b[39m Missmatch\u001b[39m.\u001b[39mevents\u001b[39m.\u001b[39mrequest_proof_of_middle\u001b[39m.\u001b[39mcreateFilter(fromBlock\u001b[39m=\u001b[39m\u001b[39m1\u001b[39m)\n\u001b[1;32m     <a href='vscode-notebook-cell:/Users/onurerenarpaci/Desktop/KUSRP/delegate/test_missmatch%20copy.ipynb#ch0000004?line=41'>42</a>\u001b[0m     event_filter_c2 \u001b[39m=\u001b[39m Missmatch\u001b[39m.\u001b[39mevents\u001b[39m.\u001b[39mrequest_proof_of_middle\u001b[39m.\u001b[39mcreateFilter(fromBlock\u001b[39m=\u001b[39m\u001b[39m1\u001b[39m)\n\u001b[1;32m     <a href='vscode-notebook-cell:/Users/onurerenarpaci/Desktop/KUSRP/delegate/test_missmatch%20copy.ipynb#ch0000004?line=42'>43</a>\u001b[0m     event_filter_verift_c1 \u001b[39m=\u001b[39m Missmatch\u001b[39m.\u001b[39mevents\u001b[39m.\u001b[39mrequest_proof_of_committed_step\u001b[39m.\u001b[39mcreateFilter(fromBlock\u001b[39m=\u001b[39m\u001b[39m1\u001b[39m)\n",
      "File \u001b[0;32m~/.local/share/virtualenvs/delegate-LWMUJY8D/lib/python3.9/site-packages/web3/contract.py:254\u001b[0m, in \u001b[0;36mContractEvents.__getattr__\u001b[0;34m(self, event_name)\u001b[0m\n\u001b[1;32m    249\u001b[0m     \u001b[39mraise\u001b[39;00m NoABIEventsFound(\n\u001b[1;32m    250\u001b[0m         \u001b[39m\"\u001b[39m\u001b[39mThe abi for this contract contains no event definitions. \u001b[39m\u001b[39m\"\u001b[39m,\n\u001b[1;32m    251\u001b[0m         \u001b[39m\"\u001b[39m\u001b[39mAre you sure you provided the correct contract abi?\u001b[39m\u001b[39m\"\u001b[39m\n\u001b[1;32m    252\u001b[0m     )\n\u001b[1;32m    253\u001b[0m \u001b[39melif\u001b[39;00m event_name \u001b[39mnot\u001b[39;00m \u001b[39min\u001b[39;00m \u001b[39mself\u001b[39m\u001b[39m.\u001b[39m\u001b[39m__dict__\u001b[39m[\u001b[39m'\u001b[39m\u001b[39m_events\u001b[39m\u001b[39m'\u001b[39m]:\n\u001b[0;32m--> 254\u001b[0m     \u001b[39mraise\u001b[39;00m ABIEventFunctionNotFound(\n\u001b[1;32m    255\u001b[0m         \u001b[39m\"\u001b[39m\u001b[39mThe event \u001b[39m\u001b[39m'\u001b[39m\u001b[39m{}\u001b[39;00m\u001b[39m'\u001b[39m\u001b[39m was not found in this contract\u001b[39m\u001b[39m'\u001b[39m\u001b[39ms abi. \u001b[39m\u001b[39m\"\u001b[39m\u001b[39m.\u001b[39mformat(event_name),\n\u001b[1;32m    256\u001b[0m         \u001b[39m\"\u001b[39m\u001b[39mAre you sure you provided the correct contract abi?\u001b[39m\u001b[39m\"\u001b[39m\n\u001b[1;32m    257\u001b[0m     )\n\u001b[1;32m    258\u001b[0m \u001b[39melse\u001b[39;00m:\n\u001b[1;32m    259\u001b[0m     \u001b[39mreturn\u001b[39;00m \u001b[39msuper\u001b[39m()\u001b[39m.\u001b[39m\u001b[39m__getattribute__\u001b[39m(event_name)\n",
      "\u001b[0;31mABIEventFunctionNotFound\u001b[0m: (\"The event 'request_proof_of_middle' was not found in this contract's abi. \", 'Are you sure you provided the correct contract abi?')"
     ]
    }
   ],
   "source": [
    "import asyncio\n",
    "mt = [mt1, mt2]\n",
    "\n",
    "def handle_event(event, conractor):\n",
    "    middle = event['args']['middle']\n",
    "    Missmatch.functions.send_rc_proof(utils.translate_proof(mt[conractor-1], middle)).transact({'from': w3.eth.accounts[conractor]})\n",
    "    print(f'conractor = {conractor} middle = {middle}')\n",
    "\n",
    "def handle_verify_committed_step(event, rc_list, conractor):\n",
    "    low = event['args']['low']\n",
    "    rc = rc_list[low]\n",
    "    Missmatch.functions.send_committed_step(\n",
    "        PC = rc['PC'], \n",
    "        OpCode = int(rc['OpCode']), \n",
    "        args = rc['args'], \n",
    "        args_values = utils.sterilize_ints(rc['args_values']), \n",
    "        args_proof = rc['args_proofs'],\n",
    "        store_mt_root = rc['store_mt_root'],\n",
    "        nextOpCode = int(rc_list[low+1]['OpCode']),\n",
    "        nextArgs = utils.sterilize_ints(rc_list[low+1]['args']),\n",
    "        next_op_proof = rc['next_op_proof']\n",
    "        ).transact({'from': w3.eth.accounts[conractor]})\n",
    "    print(f'conractor = {conractor} low = {low}')\n",
    "    \n",
    "\n",
    "async def log_loop_c1(event_filter, event_filter_verify, poll_interval):\n",
    "    for x in range(8):\n",
    "        for PairCreated in event_filter.get_new_entries():\n",
    "            handle_event(PairCreated, 1)\n",
    "        for event in event_filter_verify.get_new_entries():\n",
    "            handle_verify_committed_step(event, ram1.rc_list, 1)\n",
    "        await asyncio.sleep(poll_interval)\n",
    "\n",
    "async def log_loop_c2(event_filter, event_filter_verify, poll_interval):\n",
    "    for x in range(8):\n",
    "        for PairCreated in event_filter.get_new_entries():\n",
    "            handle_event(PairCreated, 2)\n",
    "        await asyncio.sleep(poll_interval)\n",
    "\n",
    "async def main():\n",
    "    event_filter_c1 = Missmatch.events.request_proof_of_middle.createFilter(fromBlock=1)\n",
    "    event_filter_c2 = Missmatch.events.request_proof_of_middle.createFilter(fromBlock=1)\n",
    "    event_filter_verift_c1 = Missmatch.events.request_proof_of_committed_step.createFilter(fromBlock=1)\n",
    "    event_filter_verift_c2 = Missmatch.events.request_proof_of_committed_step.createFilter(fromBlock=1)\n",
    "\n",
    "    await asyncio.gather(\n",
    "        log_loop_c1(event_filter_c1, event_filter_verift_c1, 1),\n",
    "        log_loop_c2(event_filter_c2, event_filter_verift_c2, 1))\n",
    "\n",
    "\n",
    "await main()\n"
   ]
  },
  {
   "cell_type": "code",
   "execution_count": null,
   "metadata": {},
   "outputs": [
    {
     "data": {
      "text/plain": [
       "numpy.int32"
      ]
     },
     "execution_count": 7,
     "metadata": {},
     "output_type": "execute_result"
    }
   ],
   "source": [
    "event_filter = Missmatch.events.request_proof_of_committed_step.createFilter(fromBlock=1)\n",
    "event_filter.get_new_entries()\n",
    "type(ram1.rc_list[5]['args_values'][0])\n"
   ]
  }
 ],
 "metadata": {
  "kernelspec": {
   "display_name": "Python 3.9.10 ('delegate-LWMUJY8D')",
   "language": "python",
   "name": "python3"
  },
  "language_info": {
   "codemirror_mode": {
    "name": "ipython",
    "version": 3
   },
   "file_extension": ".py",
   "mimetype": "text/x-python",
   "name": "python",
   "nbconvert_exporter": "python",
   "pygments_lexer": "ipython3",
   "version": "3.9.10"
  },
  "orig_nbformat": 4,
  "vscode": {
   "interpreter": {
    "hash": "6ba3fa109e57979c9564df063a68ab223d9ee995edbd2f4d758ef91a92a3875d"
   }
  }
 },
 "nbformat": 4,
 "nbformat_minor": 2
}
