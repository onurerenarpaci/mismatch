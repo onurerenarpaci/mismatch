{
 "cells": [
  {
   "cell_type": "code",
   "execution_count": 1,
   "metadata": {},
   "outputs": [],
   "source": [
    "import merkletools"
   ]
  },
  {
   "cell_type": "code",
   "execution_count": 2,
   "metadata": {},
   "outputs": [],
   "source": [
    "mt = merkletools.MerkleTools(hash_type=\"keccak_256\")\n",
    "\n",
    "mt.add_leaf('0000000000000000000000000000000000000000000000000000000000000017', True)\n",
    "mt.add_leaf([\"bitcoin\", \"blockchain\"], True)\n",
    "\n",
    "mt.make_tree()"
   ]
  },
  {
   "cell_type": "code",
   "execution_count": 47,
   "metadata": {},
   "outputs": [],
   "source": [
    "leaf_value =  mt.get_leaf(0)"
   ]
  },
  {
   "cell_type": "code",
   "execution_count": 19,
   "metadata": {},
   "outputs": [
    {
     "data": {
      "text/plain": [
       "[{'left': 'c737aa53bf5c1c135465bab4dc4051f2a6123e709fa2d8b349bd85a5617491ca'},\n",
       " {'right': '7ee156df5091fbef71b96557542210a9c9ca851cc85aaf60026519b4aaccf491'}]"
      ]
     },
     "execution_count": 19,
     "metadata": {},
     "output_type": "execute_result"
    }
   ],
   "source": [
    "mt.get_proof(1)"
   ]
  },
  {
   "cell_type": "code",
   "execution_count": 20,
   "metadata": {},
   "outputs": [
    {
     "data": {
      "text/plain": [
       "'7dee6e1aa550de37364ec77e03e62ea56bf42037b8297280de9d844d88444e4d'"
      ]
     },
     "execution_count": 20,
     "metadata": {},
     "output_type": "execute_result"
    }
   ],
   "source": [
    "mt.get_leaf(1)"
   ]
  },
  {
   "cell_type": "code",
   "execution_count": 21,
   "metadata": {},
   "outputs": [
    {
     "data": {
      "text/plain": [
       "'b2f0283f3d9e254bd18e12ef6da55e5c2373c2577e5e07f3157aa608d58443d8'"
      ]
     },
     "execution_count": 21,
     "metadata": {},
     "output_type": "execute_result"
    }
   ],
   "source": [
    "mt.get_merkle_root()"
   ]
  },
  {
   "cell_type": "code",
   "execution_count": 19,
   "metadata": {},
   "outputs": [
    {
     "data": {
      "text/plain": [
       "'c624b66cc0138b8fabc209247f72d758e1cf3343756d543badbf24212bed8c15'"
      ]
     },
     "execution_count": 19,
     "metadata": {},
     "output_type": "execute_result"
    }
   ],
   "source": [
    "import sha3\n",
    "from eth_abi.abi import encode_abi\n",
    "from web3 import Web3\n",
    "\n",
    "sha3.keccak_256(encode_abi(['int32'], [23])).hexdigest()\n",
    "\n",
    "bytes(Web3.solidityKeccak(['int256'], [23])).hex()\n",
    "\n",
    "##sha3.keccak_256(bytearray.fromhex('0000000000000000000000000000000000000000000000000000000000000017')).digest()"
   ]
  },
  {
   "cell_type": "code",
   "execution_count": 6,
   "metadata": {},
   "outputs": [],
   "source": [
    "import numpy as np"
   ]
  },
  {
   "cell_type": "code",
   "execution_count": 21,
   "metadata": {},
   "outputs": [],
   "source": [
    "arr = np.array([1, 2, 150], dtype=np.int32)"
   ]
  },
  {
   "cell_type": "code",
   "execution_count": 24,
   "metadata": {},
   "outputs": [
    {
     "data": {
      "text/plain": [
       "'0x2'"
      ]
     },
     "execution_count": 24,
     "metadata": {},
     "output_type": "execute_result"
    }
   ],
   "source": [
    "hex(arr[1])"
   ]
  },
  {
   "cell_type": "code",
   "execution_count": 8,
   "metadata": {},
   "outputs": [],
   "source": [
    "from web3 import Web3\n",
    "from solcx import compile_files\n",
    "import merkletools"
   ]
  },
  {
   "cell_type": "code",
   "execution_count": 9,
   "metadata": {},
   "outputs": [],
   "source": [
    "mt = merkletools.MerkleTools(hash_type=\"keccak_256\")\n",
    "\n",
    "mt.add_leaf([\"hello\", \"world\", \"Kusrp\" \"bitcoin\", \"blockchain\"], True)\n",
    "\n",
    "mt.make_tree()"
   ]
  },
  {
   "cell_type": "code",
   "execution_count": 11,
   "metadata": {},
   "outputs": [
    {
     "data": {
      "text/plain": [
       "[{'left': '1c8aff950685c2ed4bc3174f3472287b56d9517b9c948127319a09a7a36deac8'},\n",
       " {'right': '826299fd0ac1be3d3ef42f928ac65dbdaa24a58042aaab28f437c45e70707f6b'}]"
      ]
     },
     "execution_count": 11,
     "metadata": {},
     "output_type": "execute_result"
    }
   ],
   "source": [
    "mt.get_proof(1)"
   ]
  },
  {
   "cell_type": "code",
   "execution_count": 12,
   "metadata": {},
   "outputs": [],
   "source": [
    "contract_id, compiled_sol = compile_files([\"verifyMerkleProof.sol\"], output_values=['abi', 'bin']).popitem()\n",
    "\n",
    "w3 = Web3(Web3.EthereumTesterProvider())\n",
    "\n",
    "verifyMerkle = w3.eth.contract(abi=compiled_sol['abi'], bytecode=compiled_sol['bin'])\n",
    "\n",
    "tx_hash = verifyMerkle.constructor().transact()\n",
    "tx_receipt = w3.eth.wait_for_transaction_receipt(tx_hash)\n",
    "\n",
    "merkleContract = w3.eth.contract(address=tx_receipt.contractAddress, abi=compiled_sol['abi'])"
   ]
  },
  {
   "cell_type": "code",
   "execution_count": 17,
   "metadata": {},
   "outputs": [],
   "source": [
    "def proof_translate(mt_ins, x):\n",
    "    root = '0x' + mt_ins.get_merkle_root()\n",
    "    leaf = '0x' + mt_ins.get_leaf(x)\n",
    "    res_proof = []\n",
    "    res_bool = []\n",
    "    for p in mt_ins.get_proof(x):\n",
    "        if list(p.keys())[0] == 'left':\n",
    "            res_proof.append('0x' + p['left'])\n",
    "            res_bool.append(False)\n",
    "        else:\n",
    "            res_proof.append('0x' + p['right'])\n",
    "            res_bool.append(True)\n",
    "    return root, leaf, res_proof, res_bool\n"
   ]
  },
  {
   "cell_type": "code",
   "execution_count": 16,
   "metadata": {},
   "outputs": [
    {
     "data": {
      "text/plain": [
       "False"
      ]
     },
     "execution_count": 16,
     "metadata": {},
     "output_type": "execute_result"
    }
   ],
   "source": [
    "merkleContract.functions.verify(*proof_translate(mt, 1)).call()"
   ]
  },
  {
   "cell_type": "code",
   "execution_count": 63,
   "metadata": {},
   "outputs": [
    {
     "data": {
      "text/plain": [
       "b'\\x00\\x00\\x00\\x00\\x00\\x00\\x00\\x00\\x00\\x00\\x00\\x00\\x00\\x00\\x00\\x00\\x00\\x00\\x00\\x00\\x00\\x00\\x00\\x00\\x00\\x00\\x00\\x00\\x00\\x00\\x00\\x17\\x00\\x00\\x00\\x00\\x00\\x00\\x00\\x00\\x00\\x00\\x00\\x00\\x00\\x00\\x00\\x00\\x00\\x00\\x00\\x00\\x00\\x00\\x00\\x00\\x00\\x00\\x00\\x00\\x00\\x00\\x00\\x0c'"
      ]
     },
     "execution_count": 63,
     "metadata": {},
     "output_type": "execute_result"
    }
   ],
   "source": [
    "encode_abi(['(int32,int32)'], [(23, 12)])"
   ]
  },
  {
   "cell_type": "code",
   "execution_count": 46,
   "metadata": {},
   "outputs": [],
   "source": [
    "def hash_op(op):\n",
    "    combined = [0, 0, 0, 0]\n",
    "    combined[0] = op['OpCode']\n",
    "    combined[1:len(op['args'])+1] = op['args']\n",
    "    \n",
    "    return bytes(Web3.solidityKeccak(['int32', 'int32', 'int32', 'int32'], combined)).hex()"
   ]
  },
  {
   "cell_type": "code",
   "execution_count": 47,
   "metadata": {},
   "outputs": [],
   "source": [
    "op1 = {\"OpCode\": 5, \"args\": []}"
   ]
  },
  {
   "cell_type": "code",
   "execution_count": 45,
   "metadata": {},
   "outputs": [
    {
     "data": {
      "text/plain": [
       "str"
      ]
     },
     "execution_count": 45,
     "metadata": {},
     "output_type": "execute_result"
    }
   ],
   "source": [
    "type(bytes(hash_op(op1)).hex())"
   ]
  },
  {
   "cell_type": "code",
   "execution_count": 48,
   "metadata": {},
   "outputs": [
    {
     "data": {
      "text/plain": [
       "'a47f60972964e93c12e518b22ed4afe06aba169a6a3f473ffa14a4d10e4cd2c3'"
      ]
     },
     "execution_count": 48,
     "metadata": {},
     "output_type": "execute_result"
    }
   ],
   "source": [
    "hash_op(op1)"
   ]
  },
  {
   "cell_type": "code",
   "execution_count": 52,
   "metadata": {},
   "outputs": [],
   "source": [
    "def x2(x):\n",
    "    return x*2\n",
    "a = [1, 2, 3, 4]\n",
    "b = list(map(x2, a))"
   ]
  },
  {
   "cell_type": "code",
   "execution_count": 54,
   "metadata": {},
   "outputs": [
    {
     "data": {
      "text/plain": [
       "[1, 2, 3, 4]"
      ]
     },
     "execution_count": 54,
     "metadata": {},
     "output_type": "execute_result"
    }
   ],
   "source": [
    "a"
   ]
  },
  {
   "cell_type": "code",
   "execution_count": 1,
   "metadata": {},
   "outputs": [],
   "source": [
    "import ram\n",
    "import numpy as np\n",
    "\n",
    "source = {\n",
    "    \"size\": 10,\n",
    "    \"code\": [\n",
    "        {\n",
    "            \"OpCode\": 1,\n",
    "            \"args\": [5, 2]\n",
    "        },\n",
    "        {\n",
    "            \"OpCode\": 7,\n",
    "            \"args\": []\n",
    "        }\n",
    "    ]\n",
    "}\n"
   ]
  },
  {
   "cell_type": "code",
   "execution_count": 2,
   "metadata": {},
   "outputs": [],
   "source": [
    "code = ram.RamCoder(10)\n",
    "code.load(5, 0)\n",
    "code.load(7, 1)\n",
    "code.load(1, 5)\n",
    "code.add(0, 2, 2)\n",
    "code.sub(1, 5, 1)\n",
    "code.jnz(1, 2)\n",
    "code.end()"
   ]
  },
  {
   "cell_type": "code",
   "execution_count": 3,
   "metadata": {},
   "outputs": [
    {
     "data": {
      "text/plain": [
       "{'size': 10,\n",
       " 'code': [{'OpCode': <OpCode.LOAD: 1>, 'args': [5, 0]},\n",
       "  {'OpCode': <OpCode.LOAD: 1>, 'args': [7, 1]},\n",
       "  {'OpCode': <OpCode.LOAD: 1>, 'args': [1, 5]},\n",
       "  {'OpCode': <OpCode.ADD: 2>, 'args': [0, 2, 2]},\n",
       "  {'OpCode': <OpCode.SUB: 3>, 'args': [1, 5, 1]},\n",
       "  {'OpCode': <OpCode.JNZ: 6>, 'args': [1, 2]},\n",
       "  {'OpCode': <OpCode.END: 7>, 'args': []}]}"
      ]
     },
     "execution_count": 3,
     "metadata": {},
     "output_type": "execute_result"
    }
   ],
   "source": [
    "code.source"
   ]
  },
  {
   "cell_type": "code",
   "execution_count": 4,
   "metadata": {},
   "outputs": [],
   "source": [
    "ram1 = ram.Ram(code.source)"
   ]
  },
  {
   "cell_type": "code",
   "execution_count": 5,
   "metadata": {},
   "outputs": [],
   "source": [
    "ram1()"
   ]
  },
  {
   "cell_type": "code",
   "execution_count": 6,
   "metadata": {},
   "outputs": [
    {
     "data": {
      "text/plain": [
       "'217828ff5b94b37ce6c496f78876942c5a1765a4870f098d4c7dac95e62ed9ba'"
      ]
     },
     "execution_count": 6,
     "metadata": {},
     "output_type": "execute_result"
    }
   ],
   "source": [
    "import utils\n",
    "import merkletools\n",
    "leaves = list(map(utils.hash_rc, ram1.rc_list))\n",
    "mt = merkletools.MerkleTools(hash_type=\"keccak_256\")\n",
    "mt.add_leaf(leaves)\n",
    "mt.make_tree()\n",
    "mt.get_leaf(3)"
   ]
  },
  {
   "cell_type": "code",
   "execution_count": 7,
   "metadata": {},
   "outputs": [
    {
     "data": {
      "text/plain": [
       "{'PC': 3,\n",
       " 'OpCode': <OpCode.ADD: 2>,\n",
       " 'args': [0, 2, 2],\n",
       " 'args_values': [5, 0, 0],\n",
       " 'args_proofs': [('0x06cb4dee4c66b4011101bd0fc6e7a4279c063e3077f8ccc1eb4fb7d674ed44d9',\n",
       "   '0x036b6384b5eca791c62761152d0c79bb0604c104a5fb6f4eb0703f3154bb3db0',\n",
       "   ['0xa66cc928b5edb82af9bd49922954155ab7b0942694bea4ce44661d9a8736c688',\n",
       "    '0x633dc4d7da7256660a892f8f1604a44b5432649cc8ec5cb3ced4c4e6ac94dd1d',\n",
       "    '0x6f21267e2924835775d03cf48818214cc95760e04b05cfe0320a33f5a5883d59',\n",
       "    '0x633dc4d7da7256660a892f8f1604a44b5432649cc8ec5cb3ced4c4e6ac94dd1d'],\n",
       "   [True, True, True, True]),\n",
       "  ('0x06cb4dee4c66b4011101bd0fc6e7a4279c063e3077f8ccc1eb4fb7d674ed44d9',\n",
       "   '0x290decd9548b62a8d60345a988386fc84ba6bc95484008f6362f93160ef3e563',\n",
       "   ['0x290decd9548b62a8d60345a988386fc84ba6bc95484008f6362f93160ef3e563',\n",
       "    '0xe36be68935d4b1547a7a4416ac6987fde6766a72f69088d86153784bd1764ede',\n",
       "    '0x6f21267e2924835775d03cf48818214cc95760e04b05cfe0320a33f5a5883d59',\n",
       "    '0x633dc4d7da7256660a892f8f1604a44b5432649cc8ec5cb3ced4c4e6ac94dd1d'],\n",
       "   [True, False, True, True]),\n",
       "  ('0x06cb4dee4c66b4011101bd0fc6e7a4279c063e3077f8ccc1eb4fb7d674ed44d9',\n",
       "   '0x290decd9548b62a8d60345a988386fc84ba6bc95484008f6362f93160ef3e563',\n",
       "   ['0x290decd9548b62a8d60345a988386fc84ba6bc95484008f6362f93160ef3e563',\n",
       "    '0xe36be68935d4b1547a7a4416ac6987fde6766a72f69088d86153784bd1764ede',\n",
       "    '0x6f21267e2924835775d03cf48818214cc95760e04b05cfe0320a33f5a5883d59',\n",
       "    '0x633dc4d7da7256660a892f8f1604a44b5432649cc8ec5cb3ced4c4e6ac94dd1d'],\n",
       "   [True, False, True, True])],\n",
       " 'store_mt_root': '0x06cb4dee4c66b4011101bd0fc6e7a4279c063e3077f8ccc1eb4fb7d674ed44d9',\n",
       " 'next_op_proof': ('0x99d952b217b7609822d97e5d647e949d74dbe23cd963eafe2ada4b08bdf00bf5',\n",
       "  '0x3f281e1b77fd97bbcd1ac2a0e777aa7522626235964cf9d012b9a8daae5cc606',\n",
       "  ['0x3772301a78a63c2e713d66d51461cb314aa6cdb987eb667d6f4dccf319849e2e',\n",
       "   '0xdc651535a05286d0094585284c0c3e94650acb8efa24ed985fa1c697b5a16548',\n",
       "   '0x7248cc698a42988ae9d5c2d94e821325647e0b856e13b6139d612d86386b5520'],\n",
       "  [True, True, False])}"
      ]
     },
     "execution_count": 7,
     "metadata": {},
     "output_type": "execute_result"
    }
   ],
   "source": [
    "ram1.rc_list[3]"
   ]
  },
  {
   "cell_type": "code",
   "execution_count": 11,
   "metadata": {},
   "outputs": [],
   "source": [
    "arr = np.zeros(source['size'], dtype=np.int32)"
   ]
  },
  {
   "cell_type": "code",
   "execution_count": 12,
   "metadata": {},
   "outputs": [
    {
     "data": {
      "text/plain": [
       "<merkletools.MerkleTools at 0x1380d3790>"
      ]
     },
     "execution_count": 12,
     "metadata": {},
     "output_type": "execute_result"
    }
   ],
   "source": [
    "import utils\n",
    "utils.store_mt(arr)"
   ]
  },
  {
   "cell_type": "code",
   "execution_count": 8,
   "metadata": {},
   "outputs": [],
   "source": [
    "def fib_list(n):\n",
    "    result = ['0', '1']\n",
    "    for i in range(2, n+1):\n",
    "        result.append(str(int(result[i-1]) + int(result[i-2])))\n",
    "    return result\n"
   ]
  },
  {
   "cell_type": "code",
   "execution_count": 9,
   "metadata": {},
   "outputs": [
    {
     "data": {
      "text/plain": [
       "['0',\n",
       " '1',\n",
       " '1',\n",
       " '2',\n",
       " '3',\n",
       " '5',\n",
       " '8',\n",
       " '13',\n",
       " '21',\n",
       " '34',\n",
       " '55',\n",
       " '89',\n",
       " '144',\n",
       " '233',\n",
       " '377',\n",
       " '610',\n",
       " '987',\n",
       " '1597',\n",
       " '2584',\n",
       " '4181',\n",
       " '6765',\n",
       " '10946',\n",
       " '17711',\n",
       " '28657',\n",
       " '46368',\n",
       " '75025',\n",
       " '121393',\n",
       " '196418',\n",
       " '317811',\n",
       " '514229',\n",
       " '832040',\n",
       " '1346269',\n",
       " '2178309']"
      ]
     },
     "execution_count": 9,
     "metadata": {},
     "output_type": "execute_result"
    }
   ],
   "source": [
    "fib_list(32)"
   ]
  }
 ],
 "metadata": {
  "kernelspec": {
   "display_name": "Python 3.9.10 ('delegate-LWMUJY8D')",
   "language": "python",
   "name": "python3"
  },
  "language_info": {
   "codemirror_mode": {
    "name": "ipython",
    "version": 3
   },
   "file_extension": ".py",
   "mimetype": "text/x-python",
   "name": "python",
   "nbconvert_exporter": "python",
   "pygments_lexer": "ipython3",
   "version": "3.9.10"
  },
  "orig_nbformat": 4,
  "vscode": {
   "interpreter": {
    "hash": "6ba3fa109e57979c9564df063a68ab223d9ee995edbd2f4d758ef91a92a3875d"
   }
  }
 },
 "nbformat": 4,
 "nbformat_minor": 2
}
