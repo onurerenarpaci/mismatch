{
 "cells": [
  {
   "cell_type": "code",
   "execution_count": 9,
   "metadata": {},
   "outputs": [],
   "source": [
    "import merkletools\n",
    "from web3 import Web3\n",
    "from solcx import compile_files\n",
    "import client.utils as utils\n",
    "import client.ram as ram\n",
    "import copy"
   ]
  },
  {
   "cell_type": "code",
   "execution_count": null,
   "metadata": {},
   "outputs": [],
   "source": [
    "contract_id, compiled_sol = compile_files([\"contracts/mismatch.sol:Mismatch\"], output_values=['abi', 'bin']).popitem()\n",
    "\n",
    "w3 = Web3(Web3.HTTPProvider(\"http://localhost:8545\"))\n",
    "\n",
    "mismatch = w3.eth.contract(abi=compiled_sol['abi'], bytecode=compiled_sol['bin'])\n",
    "\n",
    "tx_hash = mismatch.constructor().transact({'from': w3.eth.accounts[1]})\n",
    "tx_receipt = w3.eth.wait_for_transaction_receipt(tx_hash)\n",
    "\n",
    "Mismatch = w3.eth.contract(address=tx_receipt.contractAddress, abi=compiled_sol['abi'])\n"
   ]
  },
  {
   "cell_type": "code",
   "execution_count": 10,
   "metadata": {},
   "outputs": [],
   "source": [
    "w3 = Web3(Web3.HTTPProvider(\"http://localhost:8545\"))\n",
    "compiled_sol = compile_files([\"contracts/mismatch.sol\"], output_values=['abi', 'bin'])['contracts/mismatch.sol:Mismatch']\n",
    "Mismatch = w3.eth.contract(address='0xBB8f430bb1229110Ac7677C995F39595a8f58018', abi=compiled_sol['abi'])"
   ]
  },
  {
   "cell_type": "code",
   "execution_count": 11,
   "metadata": {},
   "outputs": [],
   "source": [
    "code = ram.RamCoder(10)\n",
    "\n",
    "#fibonacci\n",
    "code.load(1, 0)\n",
    "code.load(1, 1)\n",
    "code.load(2500, 3)\n",
    "code.load(1, 4)\n",
    "code.load(2, 5)\n",
    "code.add(0, 1, 2)\n",
    "code.copy_id(4, 0)\n",
    "code.copy_id(5, 1)\n",
    "code.sub(3, 4, 3)\n",
    "code.jnz(3, 4)\n",
    "code.end()\n",
    "\n",
    "ram1 = ram.Ram(code.source)\n",
    "ram1()\n",
    "\n",
    "mt1 = utils.reduced_config_mt(ram1.rc_list)"
   ]
  },
  {
   "cell_type": "code",
   "execution_count": 12,
   "metadata": {},
   "outputs": [
    {
     "data": {
      "text/plain": [
       "3375"
      ]
     },
     "execution_count": 12,
     "metadata": {},
     "output_type": "execute_result"
    }
   ],
   "source": [
    "corrupted_rc_list = copy.deepcopy(ram1.rc_list)\n",
    "\n",
    "import random\n",
    "lenght_rc = len(ram1.rc_list)\n",
    "divergence = random.randint(0, lenght_rc - 1)\n",
    "for i in range(lenght_rc):\n",
    "    if i < divergence: continue\n",
    "    corrupted_rc_list[i][\"args\"] = [1, 2, 3]\n",
    "\n",
    "mt2 = utils.reduced_config_mt(corrupted_rc_list)\n",
    "\n",
    "divergence"
   ]
  },
  {
   "cell_type": "code",
   "execution_count": null,
   "metadata": {},
   "outputs": [],
   "source": [
    "import pickle\n",
    "\n",
    "rc_list = None\n",
    "\n",
    "print('step 1')\n",
    "with open('test.dictionary', 'rb') as config_dictionary_file:\n",
    "    rc_list = pickle.load(config_dictionary_file)\n",
    "\n",
    "print('step 2')\n",
    "mt1 = utils.reduced_config_mt(rc_list)\n",
    "\n",
    "print('step 3')\n",
    "corrupted_rc_list = copy.deepcopy(rc_list)\n",
    "\n"
   ]
  },
  {
   "cell_type": "code",
   "execution_count": null,
   "metadata": {},
   "outputs": [],
   "source": [
    "print('step 4')\n",
    "for i in range(400000):\n",
    "    corrupted_rc_list[12 + i][\"args\"] = [1, 2, 3]\n",
    "\n",
    "print('step 5')\n",
    "mt2 = utils.reduced_config_mt(corrupted_rc_list)\n",
    "\n",
    "print('step 6')\n",
    "mt2.get_leaf(11)"
   ]
  },
  {
   "cell_type": "code",
   "execution_count": 13,
   "metadata": {},
   "outputs": [
    {
     "data": {
      "text/plain": [
       "253427"
      ]
     },
     "execution_count": 13,
     "metadata": {},
     "output_type": "execute_result"
    }
   ],
   "source": [
    "contractors = [w3.eth.accounts[1], w3.eth.accounts[2]]\n",
    "\n",
    "tx_hash = Mismatch.functions.start_committed_bs(\n",
    "    len(mt1.leaves), \n",
    "    '0x' + mt1.get_merkle_root(),\n",
    "    '0x' + mt2.get_merkle_root(),\n",
    "    contractors[0],\n",
    "    contractors[1],\n",
    "    '0x' + ram1.code_mt.get_merkle_root()).transact({'from': w3.eth.accounts[0]})\n",
    "tx_receipt = w3.eth.wait_for_transaction_receipt(tx_hash)\n",
    "\n",
    "key = '0x' + utils.calculate_key(\n",
    "    len(mt1.leaves), \n",
    "    '0x' + mt1.get_merkle_root(),\n",
    "    '0x' + mt2.get_merkle_root(),\n",
    "    contractors[0],\n",
    "    contractors[1],\n",
    "    '0x' + ram1.code_mt.get_merkle_root())\n",
    "\n",
    "tx_receipt.gasUsed"
   ]
  },
  {
   "cell_type": "code",
   "execution_count": null,
   "metadata": {},
   "outputs": [],
   "source": [
    "key"
   ]
  },
  {
   "cell_type": "code",
   "execution_count": 66,
   "metadata": {},
   "outputs": [],
   "source": [
    "import asyncio\n",
    "mt = [mt1, mt2]\n",
    "\n",
    "def handle_event(event, conractor):\n",
    "    middle = event['args']['middle']\n",
    "    key = event['args']['key']\n",
    "    Mismatch.functions.send_rc_proof(utils.translate_proof(mt[conractor-1], middle)).transact({'from': w3.eth.accounts[conractor]}, key)\n",
    "    print(f'conractor = {conractor} middle = {middle}')\n",
    "\n",
    "def handle_verify_committed_step(event, rc_list, conractor):\n",
    "    low = event['args']['low']\n",
    "    rc = rc_list[low]\n",
    "    return Mismatch.functions.send_committed_step(\n",
    "        PC = rc['PC'], \n",
    "        OpCode = int(rc['OpCode']), \n",
    "        args = rc['args'], \n",
    "        args_values = utils.sterilize_ints(rc['args_values']), \n",
    "        args_proof = rc['args_proofs'],\n",
    "        store_mt_root = rc['store_mt_root'],\n",
    "        nextOpCode = int(rc_list[low+1]['OpCode']),\n",
    "        nextArgs = utils.sterilize_ints(rc_list[low+1]['args']),\n",
    "        next_op_proof = rc['next_op_proof']\n",
    "        ).transact({'from': w3.eth.accounts[conractor]})\n",
    "    \n",
    "\n",
    "async def log_loop_c1(event_filter, event_filter_verify, poll_interval):\n",
    "    for x in range(8):\n",
    "        for PairCreated in event_filter.get_new_entries():\n",
    "            handle_event(PairCreated, 1)\n",
    "        for event in event_filter_verify.get_new_entries():\n",
    "            pass\n",
    "            #handle_verify_committed_step(event, ram1.rc_list, 1)\n",
    "        await asyncio.sleep(poll_interval)\n",
    "\n",
    "async def log_loop_c2(event_filter, event_filter_verify, poll_interval):\n",
    "    for x in range(8):\n",
    "        for PairCreated in event_filter.get_new_entries():\n",
    "            handle_event(PairCreated, 2)\n",
    "        await asyncio.sleep(poll_interval)\n",
    "\n",
    "async def main():\n",
    "    event_filter_c1 = Mismatch.events.request_proof_of_middle.createFilter(fromBlock=1 ,toBlock='latest')\n",
    "    event_filter_c2 = Mismatch.events.request_proof_of_middle.createFilter(fromBlock=1 ,toBlock='latest')\n",
    "    event_filter_verift_c1 = Mismatch.events.request_proof_of_committed_step.createFilter(fromBlock=1 ,toBlock='latest')\n",
    "    event_filter_verift_c2 = Mismatch.events.request_proof_of_committed_step.createFilter(fromBlock=1 ,toBlock='latest')\n",
    "\n",
    "    await asyncio.gather(\n",
    "        log_loop_c1(event_filter_c1, event_filter_verift_c1, 1),\n",
    "        log_loop_c2(event_filter_c2, event_filter_verift_c2, 1))\n",
    "\n",
    "\n",
    "await main()\n"
   ]
  },
  {
   "cell_type": "code",
   "execution_count": 14,
   "metadata": {},
   "outputs": [
    {
     "name": "stdout",
     "output_type": "stream",
     "text": [
      "conractor = 0 middle = 7502\n",
      "conractor = 1 middle = 7502\n",
      "conractor = 0 middle = 3751\n",
      "conractor = 1 middle = 3751\n",
      "conractor = 0 middle = 1875\n",
      "conractor = 1 middle = 1875\n",
      "conractor = 0 middle = 2813\n",
      "conractor = 1 middle = 2813\n",
      "conractor = 0 middle = 3282\n",
      "conractor = 1 middle = 3282\n",
      "conractor = 0 middle = 3516\n",
      "conractor = 1 middle = 3516\n",
      "conractor = 0 middle = 3399\n",
      "conractor = 1 middle = 3399\n",
      "conractor = 0 middle = 3340\n",
      "conractor = 1 middle = 3340\n",
      "conractor = 0 middle = 3369\n",
      "conractor = 1 middle = 3369\n",
      "conractor = 0 middle = 3384\n",
      "conractor = 1 middle = 3384\n",
      "conractor = 0 middle = 3376\n",
      "conractor = 1 middle = 3376\n",
      "conractor = 0 middle = 3372\n",
      "conractor = 1 middle = 3372\n",
      "conractor = 0 middle = 3374\n",
      "conractor = 1 middle = 3374\n",
      "conractor = 0 middle = 3375\n",
      "conractor = 1 middle = 3375\n"
     ]
    }
   ],
   "source": [
    "import asyncio\n",
    "mt = [mt1, mt2]\n",
    "\n",
    "c1_tx = []\n",
    "c2_tx = []\n",
    "\n",
    "def handle_event(event, conractor, tx_list):\n",
    "    middle = event['args']['middle']\n",
    "    #key = \"0x\" + event['args']['key'].hex()\n",
    "    tx = Mismatch.functions.send_rc_proof(utils.translate_proof(mt[conractor], middle), key).transact({'from': contractors[conractor]})\n",
    "    tx_list.append(tx)\n",
    "    print(f'conractor = {conractor} middle = {middle}')\n",
    "\n",
    "def handle_verify_committed_step(events, rc_list, conractor):\n",
    "    event = None\n",
    "    for e in events:\n",
    "        if key == \"0x\" + e['args']['key'].hex():\n",
    "            event = e\n",
    "            break\n",
    "\n",
    "    if event is None: return None\n",
    "\n",
    "    low = event['args']['low']\n",
    "    rc = rc_list[low]\n",
    "    return Mismatch.functions.send_committed_step(\n",
    "        PC = rc['PC'], \n",
    "        OpCode = int(rc['OpCode']), \n",
    "        args = rc['args'], \n",
    "        args_values = utils.sterilize_ints(rc['args_values']), \n",
    "        args_proof = rc['args_proofs'],\n",
    "        store_mt_root = rc['store_mt_root'],\n",
    "        nextOpCode = int(rc_list[low+1]['OpCode']),\n",
    "        nextArgs = utils.sterilize_ints(rc_list[low+1]['args']),\n",
    "        next_op_proof = rc['next_op_proof'],\n",
    "        key = key\n",
    "        ).transact({'from': contractors[conractor]})\n",
    "    \n",
    "\n",
    "async def log_loop_c1(poll_interval):\n",
    "    old = []\n",
    "    for x in range(20):\n",
    "        dif = list(set(Mismatch.events.request_proof_of_middle.getLogs(fromBlock=1)) - set(old))\n",
    "        old = list(set(Mismatch.events.request_proof_of_middle.getLogs(fromBlock=1)))\n",
    "        for PairCreated in dif:\n",
    "            if key == \"0x\" + PairCreated['args']['key'].hex():\n",
    "                handle_event(PairCreated, 0, c1_tx)\n",
    "        await asyncio.sleep(poll_interval)\n",
    "\n",
    "async def log_loop_c2(poll_interval):\n",
    "    old = []\n",
    "    for x in range(20):\n",
    "        dif = list(set(Mismatch.events.request_proof_of_middle.getLogs(fromBlock=1)) - set(old))\n",
    "        old = list(set(Mismatch.events.request_proof_of_middle.getLogs(fromBlock=1)))\n",
    "        for PairCreated in dif:\n",
    "            if key == \"0x\" + PairCreated['args']['key'].hex():\n",
    "                handle_event(PairCreated, 1, c2_tx)\n",
    "        await asyncio.sleep(poll_interval)\n",
    "\n",
    "async def main():\n",
    "\n",
    "    await asyncio.gather(\n",
    "        log_loop_c1(1),\n",
    "        log_loop_c2(1))\n",
    "\n",
    "\n",
    "await main()"
   ]
  },
  {
   "cell_type": "code",
   "execution_count": 15,
   "metadata": {},
   "outputs": [],
   "source": [
    "\n",
    "tx = handle_verify_committed_step(Mismatch.events.request_proof_of_committed_step.getLogs(fromBlock=1), ram1.rc_list, 1)\n",
    "c1_tx.append(tx)\n"
   ]
  },
  {
   "cell_type": "code",
   "execution_count": 16,
   "metadata": {},
   "outputs": [
    {
     "data": {
      "text/plain": [
       "'0x0b952Ffd52915C6D66e6cb740bd18B207B5Bf69e'"
      ]
     },
     "execution_count": 16,
     "metadata": {},
     "output_type": "execute_result"
    }
   ],
   "source": [
    "Mismatch.events.request_proof_of_middle.getLogs(fromBlock=1)\n",
    "Mismatch.events.request_proof_of_committed_step.getLogs(fromBlock=1)\n",
    "Mismatch.functions.get_winner(key).call()\n"
   ]
  },
  {
   "cell_type": "code",
   "execution_count": null,
   "metadata": {},
   "outputs": [],
   "source": [
    "\n",
    "total_cost_c1 = 0\n",
    "for tx in c1_tx:\n",
    "    receipt = w3.eth.waitForTransactionReceipt(tx)\n",
    "    total_cost_c1 += receipt.gasUsed\n",
    "\n",
    "total_cost_c2 = 0\n",
    "for tx in c2_tx:\n",
    "    receipt = w3.eth.waitForTransactionReceipt(tx)\n",
    "    total_cost_c2 += receipt.gasUsed\n",
    "\n",
    "print(total_cost_c1)\n",
    "print(total_cost_c2)"
   ]
  }
 ],
 "metadata": {
  "kernelspec": {
   "display_name": "Python 3.9.10 ('delegate-LWMUJY8D')",
   "language": "python",
   "name": "python3"
  },
  "language_info": {
   "codemirror_mode": {
    "name": "ipython",
    "version": 3
   },
   "file_extension": ".py",
   "mimetype": "text/x-python",
   "name": "python",
   "nbconvert_exporter": "python",
   "pygments_lexer": "ipython3",
   "version": "3.9.13"
  },
  "orig_nbformat": 4,
  "vscode": {
   "interpreter": {
    "hash": "6ba3fa109e57979c9564df063a68ab223d9ee995edbd2f4d758ef91a92a3875d"
   }
  }
 },
 "nbformat": 4,
 "nbformat_minor": 2
}
