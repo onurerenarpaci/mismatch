{
 "cells": [
  {
   "cell_type": "code",
   "execution_count": 39,
   "metadata": {},
   "outputs": [],
   "source": [
    "import merkletools\n",
    "from web3 import Web3\n",
    "from solcx import compile_files\n",
    "import client.utils as utils\n",
    "import client.ram as ram\n",
    "import copy"
   ]
  },
  {
   "cell_type": "code",
   "execution_count": 15,
   "metadata": {},
   "outputs": [
    {
     "ename": "SolcError",
     "evalue": "An error occurred during execution\n> command: `/opt/homebrew/bin/solc contracts/mismatch.sol:Mismatch --combined-json abi,bin`\n> return code: `1`\n> stdout:\n\n> stderr:\n\"contracts/mismatch.sol:Mismatch\" is not found.",
     "output_type": "error",
     "traceback": [
      "\u001b[0;31m---------------------------------------------------------------------------\u001b[0m",
      "\u001b[0;31mSolcError\u001b[0m                                 Traceback (most recent call last)",
      "\u001b[1;32m/Users/onurerenarpaci/Desktop/KUSRP/delegate/test_missmatch_multiple.ipynb Cell 2\u001b[0m in \u001b[0;36m<cell line: 1>\u001b[0;34m()\u001b[0m\n\u001b[0;32m----> <a href='vscode-notebook-cell:/Users/onurerenarpaci/Desktop/KUSRP/delegate/test_missmatch_multiple.ipynb#W1sZmlsZQ%3D%3D?line=0'>1</a>\u001b[0m contract_id, compiled_sol \u001b[39m=\u001b[39m compile_files([\u001b[39m\"\u001b[39;49m\u001b[39mcontracts/mismatch.sol:Mismatch\u001b[39;49m\u001b[39m\"\u001b[39;49m], output_values\u001b[39m=\u001b[39;49m[\u001b[39m'\u001b[39;49m\u001b[39mabi\u001b[39;49m\u001b[39m'\u001b[39;49m, \u001b[39m'\u001b[39;49m\u001b[39mbin\u001b[39;49m\u001b[39m'\u001b[39;49m])\u001b[39m.\u001b[39mpopitem()\n\u001b[1;32m      <a href='vscode-notebook-cell:/Users/onurerenarpaci/Desktop/KUSRP/delegate/test_missmatch_multiple.ipynb#W1sZmlsZQ%3D%3D?line=2'>3</a>\u001b[0m w3 \u001b[39m=\u001b[39m Web3(Web3\u001b[39m.\u001b[39mHTTPProvider(\u001b[39m\"\u001b[39m\u001b[39mhttp://localhost:8545\u001b[39m\u001b[39m\"\u001b[39m))\n\u001b[1;32m      <a href='vscode-notebook-cell:/Users/onurerenarpaci/Desktop/KUSRP/delegate/test_missmatch_multiple.ipynb#W1sZmlsZQ%3D%3D?line=4'>5</a>\u001b[0m mismatch \u001b[39m=\u001b[39m w3\u001b[39m.\u001b[39meth\u001b[39m.\u001b[39mcontract(abi\u001b[39m=\u001b[39mcompiled_sol[\u001b[39m'\u001b[39m\u001b[39mabi\u001b[39m\u001b[39m'\u001b[39m], bytecode\u001b[39m=\u001b[39mcompiled_sol[\u001b[39m'\u001b[39m\u001b[39mbin\u001b[39m\u001b[39m'\u001b[39m])\n",
      "File \u001b[0;32m~/.local/share/virtualenvs/delegate-LWMUJY8D/lib/python3.9/site-packages/solcx/main.py:216\u001b[0m, in \u001b[0;36mcompile_files\u001b[0;34m(source_files, output_values, import_remappings, base_path, allow_paths, output_dir, overwrite, evm_version, revert_strings, metadata_hash, metadata_literal, optimize, optimize_runs, optimize_yul, no_optimize_yul, yul_optimizations, solc_binary, solc_version, allow_empty)\u001b[0m\n\u001b[1;32m    134\u001b[0m \u001b[39mdef\u001b[39;00m \u001b[39mcompile_files\u001b[39m(\n\u001b[1;32m    135\u001b[0m     source_files: Union[List, Path, \u001b[39mstr\u001b[39m],\n\u001b[1;32m    136\u001b[0m     output_values: List \u001b[39m=\u001b[39m \u001b[39mNone\u001b[39;00m,\n\u001b[0;32m   (...)\u001b[0m\n\u001b[1;32m    153\u001b[0m     allow_empty: \u001b[39mbool\u001b[39m \u001b[39m=\u001b[39m \u001b[39mFalse\u001b[39;00m,\n\u001b[1;32m    154\u001b[0m ) \u001b[39m-\u001b[39m\u001b[39m>\u001b[39m Dict:\n\u001b[1;32m    155\u001b[0m     \u001b[39m\"\"\"\u001b[39;00m\n\u001b[1;32m    156\u001b[0m \u001b[39m    Compile one or more Solidity source files.\u001b[39;00m\n\u001b[1;32m    157\u001b[0m \n\u001b[0;32m   (...)\u001b[0m\n\u001b[1;32m    214\u001b[0m \u001b[39m        Compiler output\u001b[39;00m\n\u001b[1;32m    215\u001b[0m \u001b[39m    \"\"\"\u001b[39;00m\n\u001b[0;32m--> 216\u001b[0m     \u001b[39mreturn\u001b[39;00m _compile_combined_json(\n\u001b[1;32m    217\u001b[0m         solc_binary\u001b[39m=\u001b[39;49msolc_binary,\n\u001b[1;32m    218\u001b[0m         solc_version\u001b[39m=\u001b[39;49msolc_version,\n\u001b[1;32m    219\u001b[0m         source_files\u001b[39m=\u001b[39;49msource_files,\n\u001b[1;32m    220\u001b[0m         output_values\u001b[39m=\u001b[39;49moutput_values,\n\u001b[1;32m    221\u001b[0m         import_remappings\u001b[39m=\u001b[39;49mimport_remappings,\n\u001b[1;32m    222\u001b[0m         base_path\u001b[39m=\u001b[39;49mbase_path,\n\u001b[1;32m    223\u001b[0m         allow_paths\u001b[39m=\u001b[39;49mallow_paths,\n\u001b[1;32m    224\u001b[0m         output_dir\u001b[39m=\u001b[39;49moutput_dir,\n\u001b[1;32m    225\u001b[0m         overwrite\u001b[39m=\u001b[39;49moverwrite,\n\u001b[1;32m    226\u001b[0m         evm_version\u001b[39m=\u001b[39;49mevm_version,\n\u001b[1;32m    227\u001b[0m         revert_strings\u001b[39m=\u001b[39;49mrevert_strings,\n\u001b[1;32m    228\u001b[0m         metadata_hash\u001b[39m=\u001b[39;49mmetadata_hash,\n\u001b[1;32m    229\u001b[0m         metadata_literal\u001b[39m=\u001b[39;49mmetadata_literal,\n\u001b[1;32m    230\u001b[0m         optimize\u001b[39m=\u001b[39;49moptimize,\n\u001b[1;32m    231\u001b[0m         optimize_runs\u001b[39m=\u001b[39;49moptimize_runs,\n\u001b[1;32m    232\u001b[0m         no_optimize_yul\u001b[39m=\u001b[39;49mno_optimize_yul,\n\u001b[1;32m    233\u001b[0m         yul_optimizations\u001b[39m=\u001b[39;49myul_optimizations,\n\u001b[1;32m    234\u001b[0m         allow_empty\u001b[39m=\u001b[39;49mallow_empty,\n\u001b[1;32m    235\u001b[0m     )\n",
      "File \u001b[0;32m~/.local/share/virtualenvs/delegate-LWMUJY8D/lib/python3.9/site-packages/solcx/main.py:291\u001b[0m, in \u001b[0;36m_compile_combined_json\u001b[0;34m(output_values, solc_binary, solc_version, output_dir, overwrite, allow_empty, **kwargs)\u001b[0m\n\u001b[1;32m    286\u001b[0m         target_path \u001b[39m=\u001b[39m output_dir\u001b[39m.\u001b[39mjoinpath(\u001b[39m\"\u001b[39m\u001b[39mcombined.json\u001b[39m\u001b[39m\"\u001b[39m)\n\u001b[1;32m    287\u001b[0m         \u001b[39mraise\u001b[39;00m \u001b[39mFileExistsError\u001b[39;00m(\n\u001b[1;32m    288\u001b[0m             \u001b[39mf\u001b[39m\u001b[39m\"\u001b[39m\u001b[39mTarget output file \u001b[39m\u001b[39m{\u001b[39;00mtarget_path\u001b[39m}\u001b[39;00m\u001b[39m already exists - use overwrite=True to overwrite\u001b[39m\u001b[39m\"\u001b[39m\n\u001b[1;32m    289\u001b[0m         )\n\u001b[0;32m--> 291\u001b[0m stdoutdata, stderrdata, command, proc \u001b[39m=\u001b[39m wrapper\u001b[39m.\u001b[39;49msolc_wrapper(\n\u001b[1;32m    292\u001b[0m     solc_binary\u001b[39m=\u001b[39;49msolc_binary,\n\u001b[1;32m    293\u001b[0m     combined_json\u001b[39m=\u001b[39;49mcombined_json,\n\u001b[1;32m    294\u001b[0m     output_dir\u001b[39m=\u001b[39;49moutput_dir,\n\u001b[1;32m    295\u001b[0m     overwrite\u001b[39m=\u001b[39;49moverwrite,\n\u001b[1;32m    296\u001b[0m     \u001b[39m*\u001b[39;49m\u001b[39m*\u001b[39;49mkwargs,\n\u001b[1;32m    297\u001b[0m )\n\u001b[1;32m    299\u001b[0m \u001b[39mif\u001b[39;00m output_dir:\n\u001b[1;32m    300\u001b[0m     output_path \u001b[39m=\u001b[39m Path(output_dir)\u001b[39m.\u001b[39mjoinpath(\u001b[39m\"\u001b[39m\u001b[39mcombined.json\u001b[39m\u001b[39m\"\u001b[39m)\n",
      "File \u001b[0;32m~/.local/share/virtualenvs/delegate-LWMUJY8D/lib/python3.9/site-packages/solcx/wrapper.py:158\u001b[0m, in \u001b[0;36msolc_wrapper\u001b[0;34m(solc_binary, stdin, source_files, import_remappings, success_return_code, **kwargs)\u001b[0m\n\u001b[1;32m    153\u001b[0m         flag \u001b[39m=\u001b[39m flag\u001b[39m.\u001b[39msplit(\u001b[39m\"\u001b[39m\u001b[39m \u001b[39m\u001b[39m\"\u001b[39m)[\u001b[39m-\u001b[39m\u001b[39m1\u001b[39m]\n\u001b[1;32m    154\u001b[0m         \u001b[39mraise\u001b[39;00m UnknownValue(\n\u001b[1;32m    155\u001b[0m             \u001b[39mf\u001b[39m\u001b[39m\"\u001b[39m\u001b[39msolc \u001b[39m\u001b[39m{\u001b[39;00msolc_version\u001b[39m}\u001b[39;00m\u001b[39m does not accept \u001b[39m\u001b[39m'\u001b[39m\u001b[39m{\u001b[39;00moption\u001b[39m}\u001b[39;00m\u001b[39m'\u001b[39m\u001b[39m as an option for the \u001b[39m\u001b[39m'\u001b[39m\u001b[39m{\u001b[39;00mflag\u001b[39m}\u001b[39;00m\u001b[39m'\u001b[39m\u001b[39m flag\u001b[39m\u001b[39m\"\u001b[39m\n\u001b[1;32m    156\u001b[0m         )\n\u001b[0;32m--> 158\u001b[0m     \u001b[39mraise\u001b[39;00m SolcError(\n\u001b[1;32m    159\u001b[0m         command\u001b[39m=\u001b[39mcommand,\n\u001b[1;32m    160\u001b[0m         return_code\u001b[39m=\u001b[39mproc\u001b[39m.\u001b[39mreturncode,\n\u001b[1;32m    161\u001b[0m         stdin_data\u001b[39m=\u001b[39mstdin,\n\u001b[1;32m    162\u001b[0m         stdout_data\u001b[39m=\u001b[39mstdoutdata,\n\u001b[1;32m    163\u001b[0m         stderr_data\u001b[39m=\u001b[39mstderrdata,\n\u001b[1;32m    164\u001b[0m     )\n\u001b[1;32m    166\u001b[0m \u001b[39mreturn\u001b[39;00m stdoutdata, stderrdata, command, proc\n",
      "\u001b[0;31mSolcError\u001b[0m: An error occurred during execution\n> command: `/opt/homebrew/bin/solc contracts/mismatch.sol:Mismatch --combined-json abi,bin`\n> return code: `1`\n> stdout:\n\n> stderr:\n\"contracts/mismatch.sol:Mismatch\" is not found."
     ]
    }
   ],
   "source": [
    "contract_id, compiled_sol = compile_files([\"contracts/mismatch.sol:Mismatch\"], output_values=['abi', 'bin']).popitem()\n",
    "\n",
    "w3 = Web3(Web3.HTTPProvider(\"http://localhost:8545\"))\n",
    "\n",
    "mismatch = w3.eth.contract(abi=compiled_sol['abi'], bytecode=compiled_sol['bin'])\n",
    "\n",
    "tx_hash = mismatch.constructor().transact({'from': w3.eth.accounts[1]})\n",
    "tx_receipt = w3.eth.wait_for_transaction_receipt(tx_hash)\n",
    "\n",
    "Mismatch = w3.eth.contract(address=tx_receipt.contractAddress, abi=compiled_sol['abi'])\n"
   ]
  },
  {
   "cell_type": "code",
   "execution_count": 40,
   "metadata": {},
   "outputs": [],
   "source": [
    "w3 = Web3(Web3.HTTPProvider(\"http://localhost:8545\"))\n",
    "compiled_sol = compile_files([\"contracts/mismatch.sol\"], output_values=['abi', 'bin'])['contracts/mismatch.sol:Mismatch']\n",
    "Mismatch = w3.eth.contract(address='0x5582FD601daf986B4622ff9ffAF12597E6E430bB', abi=compiled_sol['abi'])\n",
    "#compile_files([\"mismatch-multiple.sol\"], output_values=['abi', 'bin'])\n",
    "# compiled_sol"
   ]
  },
  {
   "cell_type": "code",
   "execution_count": 41,
   "metadata": {},
   "outputs": [
    {
     "name": "stderr",
     "output_type": "stream",
     "text": [
      "/Users/onurerenarpaci/Desktop/KUSRP/delegate/client/ram.py:74: RuntimeWarning: overflow encountered in int_scalars\n",
      "  self.store[args[2]] = rs1 + rs2\n"
     ]
    }
   ],
   "source": [
    "code = ram.RamCoder(10)\n",
    "# code.load(5, 0)\n",
    "# code.load(7, 1)\n",
    "# code.load(1, 5)\n",
    "# code.add(0, 2, 2)\n",
    "# code.sub(1, 5, 1)\n",
    "# code.jnz(1, 2)\n",
    "# code.end()\n",
    "\n",
    "#fibonacci\n",
    "code.load(1, 0)\n",
    "code.load(1, 1)\n",
    "code.load(10000, 3)\n",
    "code.load(1, 4)\n",
    "code.load(2, 5)\n",
    "code.add(0, 1, 2)\n",
    "code.copy_id(4, 0)\n",
    "code.copy_id(5, 1)\n",
    "code.sub(3, 4, 3)\n",
    "code.jnz(3, 4)\n",
    "code.end()\n",
    "\n",
    "ram1 = ram.Ram(code.source)\n",
    "ram1()\n",
    "ram1.rc_list\n",
    "\n",
    "mt1 = utils.reduced_config_mt(ram1.rc_list)"
   ]
  },
  {
   "cell_type": "code",
   "execution_count": 142,
   "metadata": {},
   "outputs": [
    {
     "data": {
      "text/plain": [
       "58433"
      ]
     },
     "execution_count": 142,
     "metadata": {},
     "output_type": "execute_result"
    }
   ],
   "source": [
    "corrupted_rc_list = copy.deepcopy(ram1.rc_list)\n",
    "\n",
    "import random\n",
    "lenght_rc = len(ram1.rc_list)\n",
    "divergence = random.randint(0, lenght_rc - 1)\n",
    "for i in range(lenght_rc):\n",
    "    if i < divergence: continue\n",
    "    corrupted_rc_list[i][\"args\"] = [1, 2, 3]\n",
    "\n",
    "mt2 = utils.reduced_config_mt(corrupted_rc_list)\n",
    "\n",
    "divergence"
   ]
  },
  {
   "cell_type": "code",
   "execution_count": 21,
   "metadata": {},
   "outputs": [
    {
     "name": "stdout",
     "output_type": "stream",
     "text": [
      "step 1\n",
      "step 2\n",
      "step 3\n",
      "step 4\n",
      "step 5\n",
      "step 6\n"
     ]
    },
    {
     "data": {
      "text/plain": [
       "'ce2336ddf4e6beafea64dc6ff99e36f9f2ebda619b1e7bd8407f713ffbd058a3'"
      ]
     },
     "execution_count": 21,
     "metadata": {},
     "output_type": "execute_result"
    }
   ],
   "source": [
    "import pickle\n",
    "\n",
    "rc_list = None\n",
    "\n",
    "print('step 1')\n",
    "with open('test.dictionary', 'rb') as config_dictionary_file:\n",
    "    rc_list = pickle.load(config_dictionary_file)\n",
    "\n",
    "print('step 2')\n",
    "mt1 = utils.reduced_config_mt(rc_list)\n",
    "\n",
    "print('step 3')\n",
    "corrupted_rc_list = copy.deepcopy(rc_list)\n",
    "\n"
   ]
  },
  {
   "cell_type": "code",
   "execution_count": 31,
   "metadata": {},
   "outputs": [
    {
     "name": "stdout",
     "output_type": "stream",
     "text": [
      "step 4\n",
      "step 5\n",
      "step 6\n"
     ]
    },
    {
     "data": {
      "text/plain": [
       "'ce2336ddf4e6beafea64dc6ff99e36f9f2ebda619b1e7bd8407f713ffbd058a3'"
      ]
     },
     "execution_count": 31,
     "metadata": {},
     "output_type": "execute_result"
    }
   ],
   "source": [
    "print('step 4')\n",
    "for i in range(400000):\n",
    "    corrupted_rc_list[12 + i][\"args\"] = [1, 2, 3]\n",
    "\n",
    "print('step 5')\n",
    "mt2 = utils.reduced_config_mt(corrupted_rc_list)\n",
    "\n",
    "print('step 6')\n",
    "mt2.get_leaf(11)"
   ]
  },
  {
   "cell_type": "code",
   "execution_count": 143,
   "metadata": {},
   "outputs": [
    {
     "data": {
      "text/plain": [
       "253415"
      ]
     },
     "execution_count": 143,
     "metadata": {},
     "output_type": "execute_result"
    }
   ],
   "source": [
    "contractors = [w3.eth.accounts[7], w3.eth.accounts[4]]\n",
    "\n",
    "tx_hash = Mismatch.functions.start_committed_bs(\n",
    "    len(mt1.leaves), \n",
    "    '0x' + mt1.get_merkle_root(),\n",
    "    '0x' + mt2.get_merkle_root(),\n",
    "    contractors[0],\n",
    "    contractors[1],\n",
    "    '0x' + ram1.code_mt.get_merkle_root()).transact({'from': w3.eth.accounts[0]})\n",
    "tx_receipt = w3.eth.wait_for_transaction_receipt(tx_hash)\n",
    "\n",
    "key = '0x' + utils.calculate_key(\n",
    "    len(mt1.leaves), \n",
    "    '0x' + mt1.get_merkle_root(),\n",
    "    '0x' + mt2.get_merkle_root(),\n",
    "    contractors[0],\n",
    "    contractors[1],\n",
    "    '0x' + ram1.code_mt.get_merkle_root())\n",
    "\n",
    "tx_receipt.gasUsed"
   ]
  },
  {
   "cell_type": "code",
   "execution_count": 144,
   "metadata": {},
   "outputs": [
    {
     "data": {
      "text/plain": [
       "'0x3de8f2cdbede0ea0132eb17468df1fc7afbfa726e5594e4e39e2fca692fa99c3'"
      ]
     },
     "execution_count": 144,
     "metadata": {},
     "output_type": "execute_result"
    }
   ],
   "source": [
    "key"
   ]
  },
  {
   "cell_type": "code",
   "execution_count": 66,
   "metadata": {},
   "outputs": [],
   "source": [
    "import asyncio\n",
    "mt = [mt1, mt2]\n",
    "\n",
    "def handle_event(event, conractor):\n",
    "    middle = event['args']['middle']\n",
    "    key = event['args']['key']\n",
    "    Mismatch.functions.send_rc_proof(utils.translate_proof(mt[conractor-1], middle)).transact({'from': w3.eth.accounts[conractor]}, key)\n",
    "    print(f'conractor = {conractor} middle = {middle}')\n",
    "\n",
    "def handle_verify_committed_step(event, rc_list, conractor):\n",
    "    low = event['args']['low']\n",
    "    rc = rc_list[low]\n",
    "    return Mismatch.functions.send_committed_step(\n",
    "        PC = rc['PC'], \n",
    "        OpCode = int(rc['OpCode']), \n",
    "        args = rc['args'], \n",
    "        args_values = utils.sterilize_ints(rc['args_values']), \n",
    "        args_proof = rc['args_proofs'],\n",
    "        store_mt_root = rc['store_mt_root'],\n",
    "        nextOpCode = int(rc_list[low+1]['OpCode']),\n",
    "        nextArgs = utils.sterilize_ints(rc_list[low+1]['args']),\n",
    "        next_op_proof = rc['next_op_proof']\n",
    "        ).transact({'from': w3.eth.accounts[conractor]})\n",
    "    \n",
    "\n",
    "async def log_loop_c1(event_filter, event_filter_verify, poll_interval):\n",
    "    for x in range(8):\n",
    "        for PairCreated in event_filter.get_new_entries():\n",
    "            handle_event(PairCreated, 1)\n",
    "        for event in event_filter_verify.get_new_entries():\n",
    "            pass\n",
    "            #handle_verify_committed_step(event, ram1.rc_list, 1)\n",
    "        await asyncio.sleep(poll_interval)\n",
    "\n",
    "async def log_loop_c2(event_filter, event_filter_verify, poll_interval):\n",
    "    for x in range(8):\n",
    "        for PairCreated in event_filter.get_new_entries():\n",
    "            handle_event(PairCreated, 2)\n",
    "        await asyncio.sleep(poll_interval)\n",
    "\n",
    "async def main():\n",
    "    event_filter_c1 = Mismatch.events.request_proof_of_middle.createFilter(fromBlock=1 ,toBlock='latest')\n",
    "    event_filter_c2 = Mismatch.events.request_proof_of_middle.createFilter(fromBlock=1 ,toBlock='latest')\n",
    "    event_filter_verift_c1 = Mismatch.events.request_proof_of_committed_step.createFilter(fromBlock=1 ,toBlock='latest')\n",
    "    event_filter_verift_c2 = Mismatch.events.request_proof_of_committed_step.createFilter(fromBlock=1 ,toBlock='latest')\n",
    "\n",
    "    await asyncio.gather(\n",
    "        log_loop_c1(event_filter_c1, event_filter_verift_c1, 1),\n",
    "        log_loop_c2(event_filter_c2, event_filter_verift_c2, 1))\n",
    "\n",
    "\n",
    "await main()\n"
   ]
  },
  {
   "cell_type": "code",
   "execution_count": 145,
   "metadata": {},
   "outputs": [
    {
     "name": "stdout",
     "output_type": "stream",
     "text": [
      "conractor = 0 middle = 30002\n",
      "conractor = 1 middle = 30002\n",
      "conractor = 0 middle = 45003\n",
      "conractor = 1 middle = 45003\n",
      "conractor = 0 middle = 52503\n",
      "conractor = 1 middle = 52503\n",
      "conractor = 0 middle = 56253\n",
      "conractor = 1 middle = 56253\n",
      "conractor = 0 middle = 58128\n",
      "conractor = 1 middle = 58128\n",
      "conractor = 0 middle = 59066\n",
      "conractor = 1 middle = 59066\n",
      "conractor = 0 middle = 58597\n",
      "conractor = 1 middle = 58597\n",
      "conractor = 0 middle = 58362\n",
      "conractor = 1 middle = 58362\n",
      "conractor = 0 middle = 58479\n",
      "conractor = 1 middle = 58479\n",
      "conractor = 0 middle = 58420\n",
      "conractor = 1 middle = 58420\n",
      "conractor = 0 middle = 58449\n",
      "conractor = 1 middle = 58449\n",
      "conractor = 0 middle = 58434\n",
      "conractor = 1 middle = 58434\n",
      "conractor = 0 middle = 58427\n",
      "conractor = 1 middle = 58427\n",
      "conractor = 0 middle = 58430\n",
      "conractor = 1 middle = 58430\n",
      "conractor = 0 middle = 58432\n",
      "conractor = 1 middle = 58432\n",
      "conractor = 0 middle = 58433\n",
      "conractor = 1 middle = 58433\n"
     ]
    }
   ],
   "source": [
    "import asyncio\n",
    "mt = [mt1, mt2]\n",
    "\n",
    "c1_tx = []\n",
    "c2_tx = []\n",
    "\n",
    "def handle_event(event, conractor, tx_list):\n",
    "    middle = event['args']['middle']\n",
    "    #key = \"0x\" + event['args']['key'].hex()\n",
    "    tx = Mismatch.functions.send_rc_proof(utils.translate_proof(mt[conractor], middle), key).transact({'from': contractors[conractor]})\n",
    "    tx_list.append(tx)\n",
    "    print(f'conractor = {conractor} middle = {middle}')\n",
    "\n",
    "def handle_verify_committed_step(events, rc_list, conractor):\n",
    "    event = None\n",
    "    for e in events:\n",
    "        if key == \"0x\" + e['args']['key'].hex():\n",
    "            event = e\n",
    "            break\n",
    "\n",
    "    if event is None: return None\n",
    "\n",
    "    low = event['args']['low']\n",
    "    rc = rc_list[low]\n",
    "    return Mismatch.functions.send_committed_step(\n",
    "        PC = rc['PC'], \n",
    "        OpCode = int(rc['OpCode']), \n",
    "        args = rc['args'], \n",
    "        args_values = utils.sterilize_ints(rc['args_values']), \n",
    "        args_proof = rc['args_proofs'],\n",
    "        store_mt_root = rc['store_mt_root'],\n",
    "        nextOpCode = int(rc_list[low+1]['OpCode']),\n",
    "        nextArgs = utils.sterilize_ints(rc_list[low+1]['args']),\n",
    "        next_op_proof = rc['next_op_proof'],\n",
    "        key = key\n",
    "        ).transact({'from': contractors[conractor]})\n",
    "    \n",
    "\n",
    "async def log_loop_c1(poll_interval):\n",
    "    old = []\n",
    "    for x in range(20):\n",
    "        dif = list(set(Mismatch.events.request_proof_of_middle.getLogs(fromBlock=1)) - set(old))\n",
    "        old = list(set(Mismatch.events.request_proof_of_middle.getLogs(fromBlock=1)))\n",
    "        for PairCreated in dif:\n",
    "            if key == \"0x\" + PairCreated['args']['key'].hex():\n",
    "                handle_event(PairCreated, 0, c1_tx)\n",
    "        await asyncio.sleep(poll_interval)\n",
    "\n",
    "async def log_loop_c2(poll_interval):\n",
    "    old = []\n",
    "    for x in range(20):\n",
    "        dif = list(set(Mismatch.events.request_proof_of_middle.getLogs(fromBlock=1)) - set(old))\n",
    "        old = list(set(Mismatch.events.request_proof_of_middle.getLogs(fromBlock=1)))\n",
    "        for PairCreated in dif:\n",
    "            if key == \"0x\" + PairCreated['args']['key'].hex():\n",
    "                handle_event(PairCreated, 1, c2_tx)\n",
    "        await asyncio.sleep(poll_interval)\n",
    "\n",
    "async def main():\n",
    "\n",
    "    await asyncio.gather(\n",
    "        log_loop_c1(1),\n",
    "        log_loop_c2(1))\n",
    "\n",
    "\n",
    "await main()"
   ]
  },
  {
   "cell_type": "code",
   "execution_count": 146,
   "metadata": {},
   "outputs": [],
   "source": [
    "\n",
    "tx = handle_verify_committed_step(Mismatch.events.request_proof_of_committed_step.getLogs(fromBlock=1), ram1.rc_list, 1)\n",
    "c1_tx.append(tx)\n"
   ]
  },
  {
   "cell_type": "code",
   "execution_count": 147,
   "metadata": {},
   "outputs": [
    {
     "data": {
      "text/plain": [
       "'0xdAeA7be430E5C74959979C70dA32C20094F53aa9'"
      ]
     },
     "execution_count": 147,
     "metadata": {},
     "output_type": "execute_result"
    }
   ],
   "source": [
    "Mismatch.events.request_proof_of_middle.getLogs(fromBlock=1)\n",
    "Mismatch.events.request_proof_of_committed_step.getLogs(fromBlock=1)\n",
    "Mismatch.functions.get_winner(key).call()\n"
   ]
  },
  {
   "cell_type": "code",
   "execution_count": 38,
   "metadata": {},
   "outputs": [
    {
     "name": "stdout",
     "output_type": "stream",
     "text": [
      "4\n",
      "5\n",
      "6\n",
      "7\n",
      "8\n",
      "9\n"
     ]
    }
   ],
   "source": [
    "for x in range(10):\n",
    "    if x < 4: continue\n",
    "    print(x)"
   ]
  },
  {
   "cell_type": "code",
   "execution_count": 148,
   "metadata": {},
   "outputs": [
    {
     "name": "stdout",
     "output_type": "stream",
     "text": [
      "2728177\n",
      "2555748\n"
     ]
    }
   ],
   "source": [
    "\n",
    "total_cost_c1 = 0\n",
    "for tx in c1_tx:\n",
    "    receipt = w3.eth.waitForTransactionReceipt(tx)\n",
    "    total_cost_c1 += receipt.gasUsed\n",
    "\n",
    "total_cost_c2 = 0\n",
    "for tx in c2_tx:\n",
    "    receipt = w3.eth.waitForTransactionReceipt(tx)\n",
    "    total_cost_c2 += receipt.gasUsed\n",
    "\n",
    "print(total_cost_c1)\n",
    "print(total_cost_c2)"
   ]
  }
 ],
 "metadata": {
  "kernelspec": {
   "display_name": "Python 3.9.10 ('delegate-LWMUJY8D')",
   "language": "python",
   "name": "python3"
  },
  "language_info": {
   "codemirror_mode": {
    "name": "ipython",
    "version": 3
   },
   "file_extension": ".py",
   "mimetype": "text/x-python",
   "name": "python",
   "nbconvert_exporter": "python",
   "pygments_lexer": "ipython3",
   "version": "3.9.13"
  },
  "orig_nbformat": 4,
  "vscode": {
   "interpreter": {
    "hash": "6ba3fa109e57979c9564df063a68ab223d9ee995edbd2f4d758ef91a92a3875d"
   }
  }
 },
 "nbformat": 4,
 "nbformat_minor": 2
}
