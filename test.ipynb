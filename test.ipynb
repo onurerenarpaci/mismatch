{
 "cells": [
  {
   "cell_type": "code",
   "execution_count": 14,
   "metadata": {},
   "outputs": [],
   "source": [
    "import merkletools"
   ]
  },
  {
   "cell_type": "code",
   "execution_count": 15,
   "metadata": {},
   "outputs": [],
   "source": [
    "mt = merkletools.MerkleTools(hash_type=\"keccak_256\")\n",
    "\n",
    "mt.add_leaf('0000000000000000000000000000000000000000000000000000000000000017', True)\n",
    "mt.add_leaf([\"bitcoin\", \"blockchain\"], True)\n",
    "\n",
    "mt.make_tree()"
   ]
  },
  {
   "cell_type": "code",
   "execution_count": 47,
   "metadata": {},
   "outputs": [],
   "source": [
    "leaf_value =  mt.get_leaf(0)"
   ]
  },
  {
   "cell_type": "code",
   "execution_count": 19,
   "metadata": {},
   "outputs": [
    {
     "data": {
      "text/plain": [
       "[{'left': 'c737aa53bf5c1c135465bab4dc4051f2a6123e709fa2d8b349bd85a5617491ca'},\n",
       " {'right': '7ee156df5091fbef71b96557542210a9c9ca851cc85aaf60026519b4aaccf491'}]"
      ]
     },
     "execution_count": 19,
     "metadata": {},
     "output_type": "execute_result"
    }
   ],
   "source": [
    "mt.get_proof(1)"
   ]
  },
  {
   "cell_type": "code",
   "execution_count": 20,
   "metadata": {},
   "outputs": [
    {
     "data": {
      "text/plain": [
       "'7dee6e1aa550de37364ec77e03e62ea56bf42037b8297280de9d844d88444e4d'"
      ]
     },
     "execution_count": 20,
     "metadata": {},
     "output_type": "execute_result"
    }
   ],
   "source": [
    "mt.get_leaf(1)"
   ]
  },
  {
   "cell_type": "code",
   "execution_count": 21,
   "metadata": {},
   "outputs": [
    {
     "data": {
      "text/plain": [
       "'b2f0283f3d9e254bd18e12ef6da55e5c2373c2577e5e07f3157aa608d58443d8'"
      ]
     },
     "execution_count": 21,
     "metadata": {},
     "output_type": "execute_result"
    }
   ],
   "source": [
    "mt.get_merkle_root()"
   ]
  },
  {
   "cell_type": "code",
   "execution_count": 12,
   "metadata": {},
   "outputs": [
    {
     "data": {
      "text/plain": [
       "'c624b66cc0138b8fabc209247f72d758e1cf3343756d543badbf24212bed8c15'"
      ]
     },
     "execution_count": 12,
     "metadata": {},
     "output_type": "execute_result"
    }
   ],
   "source": [
    "import sha3\n",
    "from eth_abi.abi import encode_abi\n",
    "\n",
    "sha3.keccak_256(encode_abi(['int32'], [23])).hexdigest()\n",
    "\n",
    "##sha3.keccak_256(bytearray.fromhex('0000000000000000000000000000000000000000000000000000000000000017')).digest()"
   ]
  },
  {
   "cell_type": "code",
   "execution_count": 6,
   "metadata": {},
   "outputs": [],
   "source": [
    "import numpy as np"
   ]
  },
  {
   "cell_type": "code",
   "execution_count": 21,
   "metadata": {},
   "outputs": [],
   "source": [
    "arr = np.array([1, 2, 150], dtype=np.int32)"
   ]
  },
  {
   "cell_type": "code",
   "execution_count": 24,
   "metadata": {},
   "outputs": [
    {
     "data": {
      "text/plain": [
       "'0x2'"
      ]
     },
     "execution_count": 24,
     "metadata": {},
     "output_type": "execute_result"
    }
   ],
   "source": [
    "hex(arr[1])"
   ]
  },
  {
   "cell_type": "code",
   "execution_count": 28,
   "metadata": {},
   "outputs": [],
   "source": [
    "from web3 import Web3\n",
    "from solcx import compile_files, install_solc"
   ]
  },
  {
   "cell_type": "code",
   "execution_count": 29,
   "metadata": {},
   "outputs": [
    {
     "data": {
      "text/plain": [
       "Version('0.8.15')"
      ]
     },
     "execution_count": 29,
     "metadata": {},
     "output_type": "execute_result"
    }
   ],
   "source": [
    "install_solc()"
   ]
  },
  {
   "cell_type": "code",
   "execution_count": 38,
   "metadata": {},
   "outputs": [],
   "source": [
    "contract_id, compiled_sol = compile_files([\"verifyMerkleProof.sol\"], output_values=['abi', 'bin']).popitem()"
   ]
  },
  {
   "cell_type": "code",
   "execution_count": 39,
   "metadata": {},
   "outputs": [],
   "source": [
    "w3 = Web3(Web3.EthereumTesterProvider())"
   ]
  },
  {
   "cell_type": "code",
   "execution_count": 40,
   "metadata": {},
   "outputs": [],
   "source": [
    "verifyMerkle = w3.eth.contract(abi=compiled_sol['abi'], bytecode=compiled_sol['bin'])"
   ]
  },
  {
   "cell_type": "code",
   "execution_count": 42,
   "metadata": {},
   "outputs": [],
   "source": [
    "tx_hash = verifyMerkle.constructor().transact()"
   ]
  },
  {
   "cell_type": "code",
   "execution_count": 43,
   "metadata": {},
   "outputs": [],
   "source": [
    "tx_receipt = w3.eth.wait_for_transaction_receipt(tx_hash)"
   ]
  },
  {
   "cell_type": "code",
   "execution_count": 44,
   "metadata": {},
   "outputs": [],
   "source": [
    "merkleContract = w3.eth.contract(address=tx_receipt.contractAddress, abi=compiled_sol['abi'])"
   ]
  },
  {
   "cell_type": "code",
   "execution_count": 56,
   "metadata": {},
   "outputs": [],
   "source": [
    "def proof_translate(mt_ins, x):\n",
    "    root = '0x' + mt_ins.get_merkle_root()\n",
    "    leaf = '0x' + mt_ins.get_leaf(x)\n",
    "    res_proof = []\n",
    "    res_bool = []\n",
    "    for p in mt_ins.get_proof(x):\n",
    "        if list(p.keys())[0] == 'left':\n",
    "            res_proof.append('0x' + p['left'])\n",
    "            res_bool.append(False)\n",
    "        else:\n",
    "            res_proof.append('0x' + p['right'])\n",
    "            res_bool.append(True)\n",
    "    return root, leaf, res_proof, res_bool\n"
   ]
  },
  {
   "cell_type": "code",
   "execution_count": 59,
   "metadata": {},
   "outputs": [
    {
     "data": {
      "text/plain": [
       "True"
      ]
     },
     "execution_count": 59,
     "metadata": {},
     "output_type": "execute_result"
    }
   ],
   "source": [
    "merkleContract.functions.verify(*proof_translate(mt, 1)).call()"
   ]
  },
  {
   "cell_type": "code",
   "execution_count": 63,
   "metadata": {},
   "outputs": [
    {
     "data": {
      "text/plain": [
       "b'\\x00\\x00\\x00\\x00\\x00\\x00\\x00\\x00\\x00\\x00\\x00\\x00\\x00\\x00\\x00\\x00\\x00\\x00\\x00\\x00\\x00\\x00\\x00\\x00\\x00\\x00\\x00\\x00\\x00\\x00\\x00\\x17\\x00\\x00\\x00\\x00\\x00\\x00\\x00\\x00\\x00\\x00\\x00\\x00\\x00\\x00\\x00\\x00\\x00\\x00\\x00\\x00\\x00\\x00\\x00\\x00\\x00\\x00\\x00\\x00\\x00\\x00\\x00\\x0c'"
      ]
     },
     "execution_count": 63,
     "metadata": {},
     "output_type": "execute_result"
    }
   ],
   "source": [
    "encode_abi(['(int32,int32)'], [(23, 12)])"
   ]
  },
  {
   "cell_type": "code",
   "execution_count": 41,
   "metadata": {},
   "outputs": [
    {
     "data": {
      "text/plain": [
       "0"
      ]
     },
     "execution_count": 41,
     "metadata": {},
     "output_type": "execute_result"
    }
   ],
   "source": [
    "w3.eth.get_balance(acct.address)"
   ]
  }
 ],
 "metadata": {
  "kernelspec": {
   "display_name": "Python 3.9.10 ('delegate-LWMUJY8D')",
   "language": "python",
   "name": "python3"
  },
  "language_info": {
   "codemirror_mode": {
    "name": "ipython",
    "version": 3
   },
   "file_extension": ".py",
   "mimetype": "text/x-python",
   "name": "python",
   "nbconvert_exporter": "python",
   "pygments_lexer": "ipython3",
   "version": "3.9.10"
  },
  "orig_nbformat": 4,
  "vscode": {
   "interpreter": {
    "hash": "6ba3fa109e57979c9564df063a68ab223d9ee995edbd2f4d758ef91a92a3875d"
   }
  }
 },
 "nbformat": 4,
 "nbformat_minor": 2
}
