{
 "cells": [
  {
   "cell_type": "code",
   "execution_count": 2,
   "metadata": {},
   "outputs": [],
   "source": [
    "import merkletools\n",
    "from web3 import Web3\n",
    "from solcx import compile_files\n",
    "import client.utils as utils\n",
    "import client.ram as ram\n",
    "import copy"
   ]
  },
  {
   "cell_type": "code",
   "execution_count": 3,
   "metadata": {},
   "outputs": [],
   "source": [
    "w3 = Web3(Web3.HTTPProvider(\"http://localhost:8545\"))\n",
    "compiled_sol = compile_files([\"matchcheck.sol\"], output_values=['abi', 'bin'])['matchcheck.sol:MatchCheck']\n",
    "MatchCheck = w3.eth.contract(address='0x392046542000F922E12645f24606A376B99AcE45', abi=compiled_sol['abi'])"
   ]
  },
  {
   "cell_type": "code",
   "execution_count": 53,
   "metadata": {},
   "outputs": [],
   "source": [
    "code = ram.RamCoder(10)\n",
    "\n",
    "#fibonacci\n",
    "code.load(1, 0)\n",
    "code.load(1, 1)\n",
    "code.load(7500, 3)\n",
    "code.load(1, 4)\n",
    "code.load(2, 5)\n",
    "code.add(0, 1, 2)\n",
    "code.copy_id(4, 0)\n",
    "code.copy_id(5, 1)\n",
    "code.sub(3, 4, 3)\n",
    "code.jnz(3, 4)\n",
    "code.end()\n",
    "\n",
    "ram1 = ram.Ram(code.source)\n",
    "ram1()\n",
    "ram1.rc_list\n",
    "\n",
    "mt1 = utils.reduced_config_mt(ram1.rc_list)"
   ]
  },
  {
   "cell_type": "code",
   "execution_count": 54,
   "metadata": {},
   "outputs": [
    {
     "data": {
      "text/plain": [
       "186174"
      ]
     },
     "execution_count": 54,
     "metadata": {},
     "output_type": "execute_result"
    }
   ],
   "source": [
    "contractors = [w3.eth.accounts[3], w3.eth.accounts[5]]\n",
    "\n",
    "tx_hash = MatchCheck.functions.request_mh_proof(\n",
    "    len(mt1.leaves), \n",
    "    '0x' + mt1.get_merkle_root(),\n",
    "    contractors[0],\n",
    "    contractors[1],\n",
    "    '0x' + ram1.code_mt.get_merkle_root()).transact({'from': w3.eth.accounts[0]})\n",
    "tx_receipt = w3.eth.wait_for_transaction_receipt(tx_hash)\n",
    "\n",
    "key = '0x' + utils.calculate_key(\n",
    "    len(mt1.leaves), \n",
    "    '0x' + mt1.get_merkle_root(),\n",
    "    contractors[0],\n",
    "    contractors[1],\n",
    "    '0x' + ram1.code_mt.get_merkle_root())\n",
    "\n",
    "tx_receipt.gasUsed"
   ]
  },
  {
   "cell_type": "code",
   "execution_count": 55,
   "metadata": {},
   "outputs": [
    {
     "name": "stdout",
     "output_type": "stream",
     "text": [
      "conractor = 0 n = 15001\n"
     ]
    }
   ],
   "source": [
    "import asyncio\n",
    "mt = [mt1, mt1]\n",
    "\n",
    "c1_tx = []\n",
    "c2_tx = []\n",
    "\n",
    "def handle_event(event, conractor, tx_list, rc_list):\n",
    "    n = event['args']['n']\n",
    "\n",
    "    rc = rc_list[n]\n",
    "    params = {\n",
    "        \"PC\" : rc['PC'], \n",
    "        \"OpCode\" : int(rc['OpCode']), \n",
    "        \"args\" : rc['args'], \n",
    "        \"args_values\" : utils.sterilize_ints(rc['args_values']), \n",
    "        \"args_proof\" : rc['args_proofs'],\n",
    "        \"store_mt_root\" : rc['store_mt_root'],\n",
    "        \"nextOpCode\" : int(rc_list[n+1]['OpCode']),\n",
    "        \"nextArgs\" : utils.sterilize_ints(rc_list[n+1]['args']),\n",
    "        \"next_op_proof\" : rc['next_op_proof'],\n",
    "        \"key\" : key}\n",
    "\n",
    "    tx = MatchCheck.functions.send_proof(\n",
    "        utils.translate_proof(mt[conractor], n),\n",
    "        utils.translate_proof(mt[conractor], n+1),\n",
    "        params,\n",
    "        key).transact({'from': contractors[conractor]})\n",
    "    tx_list.append(tx)\n",
    "    print(f'conractor = {conractor} n = {n}')\n",
    "    \n",
    "\n",
    "async def log_loop_c1(poll_interval):\n",
    "    old = []\n",
    "    for x in range(5):\n",
    "        dif = list(set(MatchCheck.events.request_proof.getLogs(fromBlock=1)) - set(old))\n",
    "        old = list(set(MatchCheck.events.request_proof.getLogs(fromBlock=1)))\n",
    "        for new_event in dif:\n",
    "            if (key == \"0x\" + new_event['args']['key'].hex()\n",
    "                and contractors[0] == new_event['args']['c']):\n",
    "                handle_event(new_event, 0, c1_tx, ram1.rc_list)\n",
    "        await asyncio.sleep(poll_interval)\n",
    "\n",
    "async def log_loop_c2(poll_interval):\n",
    "    old = []\n",
    "    for x in range(5):\n",
    "        dif = list(set(MatchCheck.events.request_proof.getLogs(fromBlock=1)) - set(old))\n",
    "        old = list(set(MatchCheck.events.request_proof.getLogs(fromBlock=1)))\n",
    "        for new_event in dif:\n",
    "            if (key == \"0x\" + new_event['args']['key'].hex()\n",
    "                and contractors[1] == new_event['args']['c']):\n",
    "                handle_event(new_event, 1, c2_tx, ram1.rc_list)\n",
    "        await asyncio.sleep(poll_interval)\n",
    "\n",
    "async def main():\n",
    "\n",
    "    await asyncio.gather(\n",
    "        log_loop_c1(1),\n",
    "        #log_loop_c2(1)\n",
    "        )\n",
    "\n",
    "\n",
    "await main()"
   ]
  },
  {
   "cell_type": "code",
   "execution_count": 9,
   "metadata": {},
   "outputs": [
    {
     "data": {
      "text/plain": [
       "'0xb191941340d65220d835dcba06d9f307a6fe617d3744eb01895e27b39bd5e6a5'"
      ]
     },
     "execution_count": 9,
     "metadata": {},
     "output_type": "execute_result"
    }
   ],
   "source": [
    "key"
   ]
  },
  {
   "cell_type": "code",
   "execution_count": 56,
   "metadata": {},
   "outputs": [
    {
     "name": "stdout",
     "output_type": "stream",
     "text": [
      "208967\n",
      "0\n"
     ]
    }
   ],
   "source": [
    "total_cost_c1 = 0\n",
    "for tx in c1_tx:\n",
    "    receipt = w3.eth.waitForTransactionReceipt(tx)\n",
    "    total_cost_c1 += receipt.gasUsed\n",
    "\n",
    "total_cost_c2 = 0\n",
    "for tx in c2_tx:\n",
    "    receipt = w3.eth.waitForTransactionReceipt(tx)\n",
    "    total_cost_c2 += receipt.gasUsed\n",
    "\n",
    "print(total_cost_c1)\n",
    "print(total_cost_c2)"
   ]
  },
  {
   "cell_type": "code",
   "execution_count": 1,
   "metadata": {},
   "outputs": [
    {
     "ename": "NameError",
     "evalue": "name 'c1_tx' is not defined",
     "output_type": "error",
     "traceback": [
      "\u001b[0;31m---------------------------------------------------------------------------\u001b[0m",
      "\u001b[0;31mNameError\u001b[0m                                 Traceback (most recent call last)",
      "\u001b[1;32m/Users/onurerenarpaci/Desktop/KUSRP/delegate/MatchCheck/matchcheck-demo.ipynb Cell 8\u001b[0m in \u001b[0;36m<cell line: 1>\u001b[0;34m()\u001b[0m\n\u001b[0;32m----> <a href='vscode-notebook-cell:/Users/onurerenarpaci/Desktop/KUSRP/delegate/MatchCheck/matchcheck-demo.ipynb#X10sZmlsZQ%3D%3D?line=0'>1</a>\u001b[0m c1_tx\n",
      "\u001b[0;31mNameError\u001b[0m: name 'c1_tx' is not defined"
     ]
    }
   ],
   "source": []
  }
 ],
 "metadata": {
  "kernelspec": {
   "display_name": "Python 3.9.13 ('delegate-LWMUJY8D')",
   "language": "python",
   "name": "python3"
  },
  "language_info": {
   "codemirror_mode": {
    "name": "ipython",
    "version": 3
   },
   "file_extension": ".py",
   "mimetype": "text/x-python",
   "name": "python",
   "nbconvert_exporter": "python",
   "pygments_lexer": "ipython3",
   "version": "3.9.13"
  },
  "orig_nbformat": 4,
  "vscode": {
   "interpreter": {
    "hash": "6ba3fa109e57979c9564df063a68ab223d9ee995edbd2f4d758ef91a92a3875d"
   }
  }
 },
 "nbformat": 4,
 "nbformat_minor": 2
}
